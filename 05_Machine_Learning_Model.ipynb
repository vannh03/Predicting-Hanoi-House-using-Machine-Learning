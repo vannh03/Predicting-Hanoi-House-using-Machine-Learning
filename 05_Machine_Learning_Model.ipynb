{
 "cells": [
  {
   "cell_type": "code",
   "execution_count": 1,
   "id": "e2b236f0",
   "metadata": {},
   "outputs": [],
   "source": [
    "import pandas as pd\n",
    "from sklearn.model_selection import cross_val_score, train_test_split\n",
    "from sklearn.preprocessing import StandardScaler\n",
    "from sklearn.linear_model import LinearRegression, RidgeCV, LassoCV, ElasticNetCV\n",
    "from sklearn.metrics import mean_squared_error, make_scorer, mean_absolute_error \n",
    "from sklearn.metrics import r2_score"
   ]
  },
  {
   "cell_type": "code",
   "execution_count": 2,
   "id": "deb06b07",
   "metadata": {},
   "outputs": [],
   "source": [
    "df = pd.read_csv(\"./hanoi_house_processing_1.csv\")"
   ]
  },
  {
   "cell_type": "code",
   "execution_count": 3,
   "id": "4f6cbcc3",
   "metadata": {},
   "outputs": [
    {
     "data": {
      "text/html": [
       "<div>\n",
       "<style scoped>\n",
       "    .dataframe tbody tr th:only-of-type {\n",
       "        vertical-align: middle;\n",
       "    }\n",
       "\n",
       "    .dataframe tbody tr th {\n",
       "        vertical-align: top;\n",
       "    }\n",
       "\n",
       "    .dataframe thead th {\n",
       "        text-align: right;\n",
       "    }\n",
       "</style>\n",
       "<table border=\"1\" class=\"dataframe\">\n",
       "  <thead>\n",
       "    <tr style=\"text-align: right;\">\n",
       "      <th></th>\n",
       "      <th>price</th>\n",
       "      <th>location</th>\n",
       "      <th>size</th>\n",
       "      <th>Price_per_m2</th>\n",
       "      <th>bedroom</th>\n",
       "      <th>toi_list</th>\n",
       "      <th>mat_tien</th>\n",
       "      <th>floor</th>\n",
       "      <th>duong_vao</th>\n",
       "      <th>phap_ly</th>\n",
       "      <th>noi_that</th>\n",
       "      <th>Huong</th>\n",
       "      <th>Huong_ban_cong</th>\n",
       "    </tr>\n",
       "  </thead>\n",
       "  <tbody>\n",
       "    <tr>\n",
       "      <th>0</th>\n",
       "      <td>7.30</td>\n",
       "      <td>5</td>\n",
       "      <td>60.0</td>\n",
       "      <td>121.67</td>\n",
       "      <td>3.0</td>\n",
       "      <td>4.0</td>\n",
       "      <td>5.000000</td>\n",
       "      <td>5.0</td>\n",
       "      <td>4.9</td>\n",
       "      <td>2</td>\n",
       "      <td>1</td>\n",
       "      <td>8</td>\n",
       "      <td>6</td>\n",
       "    </tr>\n",
       "    <tr>\n",
       "      <th>1</th>\n",
       "      <td>4.50</td>\n",
       "      <td>5</td>\n",
       "      <td>35.0</td>\n",
       "      <td>128.57</td>\n",
       "      <td>3.0</td>\n",
       "      <td>4.0</td>\n",
       "      <td>4.000000</td>\n",
       "      <td>5.0</td>\n",
       "      <td>4.9</td>\n",
       "      <td>2</td>\n",
       "      <td>3</td>\n",
       "      <td>8</td>\n",
       "      <td>6</td>\n",
       "    </tr>\n",
       "    <tr>\n",
       "      <th>2</th>\n",
       "      <td>8.65</td>\n",
       "      <td>19</td>\n",
       "      <td>46.0</td>\n",
       "      <td>188.04</td>\n",
       "      <td>4.0</td>\n",
       "      <td>4.0</td>\n",
       "      <td>4.504429</td>\n",
       "      <td>4.0</td>\n",
       "      <td>4.9</td>\n",
       "      <td>2</td>\n",
       "      <td>3</td>\n",
       "      <td>8</td>\n",
       "      <td>6</td>\n",
       "    </tr>\n",
       "    <tr>\n",
       "      <th>3</th>\n",
       "      <td>4.85</td>\n",
       "      <td>16</td>\n",
       "      <td>46.0</td>\n",
       "      <td>105.44</td>\n",
       "      <td>4.0</td>\n",
       "      <td>3.0</td>\n",
       "      <td>4.700000</td>\n",
       "      <td>5.0</td>\n",
       "      <td>4.9</td>\n",
       "      <td>2</td>\n",
       "      <td>4</td>\n",
       "      <td>8</td>\n",
       "      <td>6</td>\n",
       "    </tr>\n",
       "    <tr>\n",
       "      <th>4</th>\n",
       "      <td>4.50</td>\n",
       "      <td>16</td>\n",
       "      <td>36.0</td>\n",
       "      <td>125.00</td>\n",
       "      <td>4.0</td>\n",
       "      <td>4.0</td>\n",
       "      <td>4.504429</td>\n",
       "      <td>5.0</td>\n",
       "      <td>10.0</td>\n",
       "      <td>2</td>\n",
       "      <td>4</td>\n",
       "      <td>8</td>\n",
       "      <td>6</td>\n",
       "    </tr>\n",
       "    <tr>\n",
       "      <th>...</th>\n",
       "      <td>...</td>\n",
       "      <td>...</td>\n",
       "      <td>...</td>\n",
       "      <td>...</td>\n",
       "      <td>...</td>\n",
       "      <td>...</td>\n",
       "      <td>...</td>\n",
       "      <td>...</td>\n",
       "      <td>...</td>\n",
       "      <td>...</td>\n",
       "      <td>...</td>\n",
       "      <td>...</td>\n",
       "      <td>...</td>\n",
       "    </tr>\n",
       "    <tr>\n",
       "      <th>2358</th>\n",
       "      <td>5.15</td>\n",
       "      <td>10</td>\n",
       "      <td>78.0</td>\n",
       "      <td>66.03</td>\n",
       "      <td>3.0</td>\n",
       "      <td>3.0</td>\n",
       "      <td>4.500000</td>\n",
       "      <td>2.0</td>\n",
       "      <td>4.5</td>\n",
       "      <td>2</td>\n",
       "      <td>4</td>\n",
       "      <td>8</td>\n",
       "      <td>6</td>\n",
       "    </tr>\n",
       "    <tr>\n",
       "      <th>2359</th>\n",
       "      <td>9.00</td>\n",
       "      <td>8</td>\n",
       "      <td>68.0</td>\n",
       "      <td>132.35</td>\n",
       "      <td>3.0</td>\n",
       "      <td>2.0</td>\n",
       "      <td>5.000000</td>\n",
       "      <td>5.0</td>\n",
       "      <td>8.0</td>\n",
       "      <td>2</td>\n",
       "      <td>4</td>\n",
       "      <td>8</td>\n",
       "      <td>6</td>\n",
       "    </tr>\n",
       "    <tr>\n",
       "      <th>2360</th>\n",
       "      <td>3.50</td>\n",
       "      <td>16</td>\n",
       "      <td>30.0</td>\n",
       "      <td>116.67</td>\n",
       "      <td>4.0</td>\n",
       "      <td>6.0</td>\n",
       "      <td>4.504429</td>\n",
       "      <td>5.0</td>\n",
       "      <td>4.9</td>\n",
       "      <td>2</td>\n",
       "      <td>3</td>\n",
       "      <td>8</td>\n",
       "      <td>6</td>\n",
       "    </tr>\n",
       "    <tr>\n",
       "      <th>2361</th>\n",
       "      <td>5.68</td>\n",
       "      <td>10</td>\n",
       "      <td>50.0</td>\n",
       "      <td>113.60</td>\n",
       "      <td>3.0</td>\n",
       "      <td>3.0</td>\n",
       "      <td>5.000000</td>\n",
       "      <td>5.0</td>\n",
       "      <td>4.9</td>\n",
       "      <td>2</td>\n",
       "      <td>4</td>\n",
       "      <td>8</td>\n",
       "      <td>6</td>\n",
       "    </tr>\n",
       "    <tr>\n",
       "      <th>2362</th>\n",
       "      <td>12.70</td>\n",
       "      <td>8</td>\n",
       "      <td>63.0</td>\n",
       "      <td>201.59</td>\n",
       "      <td>4.0</td>\n",
       "      <td>4.0</td>\n",
       "      <td>4.500000</td>\n",
       "      <td>4.0</td>\n",
       "      <td>5.0</td>\n",
       "      <td>2</td>\n",
       "      <td>3</td>\n",
       "      <td>8</td>\n",
       "      <td>6</td>\n",
       "    </tr>\n",
       "  </tbody>\n",
       "</table>\n",
       "<p>2363 rows × 13 columns</p>\n",
       "</div>"
      ],
      "text/plain": [
       "      price  location  size  Price_per_m2  bedroom  toi_list  mat_tien  floor  \\\n",
       "0      7.30         5  60.0        121.67      3.0       4.0  5.000000    5.0   \n",
       "1      4.50         5  35.0        128.57      3.0       4.0  4.000000    5.0   \n",
       "2      8.65        19  46.0        188.04      4.0       4.0  4.504429    4.0   \n",
       "3      4.85        16  46.0        105.44      4.0       3.0  4.700000    5.0   \n",
       "4      4.50        16  36.0        125.00      4.0       4.0  4.504429    5.0   \n",
       "...     ...       ...   ...           ...      ...       ...       ...    ...   \n",
       "2358   5.15        10  78.0         66.03      3.0       3.0  4.500000    2.0   \n",
       "2359   9.00         8  68.0        132.35      3.0       2.0  5.000000    5.0   \n",
       "2360   3.50        16  30.0        116.67      4.0       6.0  4.504429    5.0   \n",
       "2361   5.68        10  50.0        113.60      3.0       3.0  5.000000    5.0   \n",
       "2362  12.70         8  63.0        201.59      4.0       4.0  4.500000    4.0   \n",
       "\n",
       "      duong_vao  phap_ly  noi_that  Huong  Huong_ban_cong  \n",
       "0           4.9        2         1      8               6  \n",
       "1           4.9        2         3      8               6  \n",
       "2           4.9        2         3      8               6  \n",
       "3           4.9        2         4      8               6  \n",
       "4          10.0        2         4      8               6  \n",
       "...         ...      ...       ...    ...             ...  \n",
       "2358        4.5        2         4      8               6  \n",
       "2359        8.0        2         4      8               6  \n",
       "2360        4.9        2         3      8               6  \n",
       "2361        4.9        2         4      8               6  \n",
       "2362        5.0        2         3      8               6  \n",
       "\n",
       "[2363 rows x 13 columns]"
      ]
     },
     "execution_count": 3,
     "metadata": {},
     "output_type": "execute_result"
    }
   ],
   "source": [
    "df"
   ]
  },
  {
   "cell_type": "code",
   "execution_count": 4,
   "id": "1f6132d2",
   "metadata": {},
   "outputs": [
    {
     "data": {
      "text/html": [
       "<div>\n",
       "<style scoped>\n",
       "    .dataframe tbody tr th:only-of-type {\n",
       "        vertical-align: middle;\n",
       "    }\n",
       "\n",
       "    .dataframe tbody tr th {\n",
       "        vertical-align: top;\n",
       "    }\n",
       "\n",
       "    .dataframe thead th {\n",
       "        text-align: right;\n",
       "    }\n",
       "</style>\n",
       "<table border=\"1\" class=\"dataframe\">\n",
       "  <thead>\n",
       "    <tr style=\"text-align: right;\">\n",
       "      <th></th>\n",
       "      <th>location</th>\n",
       "      <th>size</th>\n",
       "      <th>Price_per_m2</th>\n",
       "      <th>bedroom</th>\n",
       "      <th>toi_list</th>\n",
       "      <th>mat_tien</th>\n",
       "      <th>floor</th>\n",
       "      <th>duong_vao</th>\n",
       "      <th>phap_ly</th>\n",
       "      <th>noi_that</th>\n",
       "      <th>Huong</th>\n",
       "      <th>Huong_ban_cong</th>\n",
       "    </tr>\n",
       "  </thead>\n",
       "  <tbody>\n",
       "    <tr>\n",
       "      <th>0</th>\n",
       "      <td>5</td>\n",
       "      <td>60.0</td>\n",
       "      <td>121.67</td>\n",
       "      <td>3.0</td>\n",
       "      <td>4.0</td>\n",
       "      <td>5.000000</td>\n",
       "      <td>5.0</td>\n",
       "      <td>4.9</td>\n",
       "      <td>2</td>\n",
       "      <td>1</td>\n",
       "      <td>8</td>\n",
       "      <td>6</td>\n",
       "    </tr>\n",
       "    <tr>\n",
       "      <th>1</th>\n",
       "      <td>5</td>\n",
       "      <td>35.0</td>\n",
       "      <td>128.57</td>\n",
       "      <td>3.0</td>\n",
       "      <td>4.0</td>\n",
       "      <td>4.000000</td>\n",
       "      <td>5.0</td>\n",
       "      <td>4.9</td>\n",
       "      <td>2</td>\n",
       "      <td>3</td>\n",
       "      <td>8</td>\n",
       "      <td>6</td>\n",
       "    </tr>\n",
       "    <tr>\n",
       "      <th>2</th>\n",
       "      <td>19</td>\n",
       "      <td>46.0</td>\n",
       "      <td>188.04</td>\n",
       "      <td>4.0</td>\n",
       "      <td>4.0</td>\n",
       "      <td>4.504429</td>\n",
       "      <td>4.0</td>\n",
       "      <td>4.9</td>\n",
       "      <td>2</td>\n",
       "      <td>3</td>\n",
       "      <td>8</td>\n",
       "      <td>6</td>\n",
       "    </tr>\n",
       "    <tr>\n",
       "      <th>3</th>\n",
       "      <td>16</td>\n",
       "      <td>46.0</td>\n",
       "      <td>105.44</td>\n",
       "      <td>4.0</td>\n",
       "      <td>3.0</td>\n",
       "      <td>4.700000</td>\n",
       "      <td>5.0</td>\n",
       "      <td>4.9</td>\n",
       "      <td>2</td>\n",
       "      <td>4</td>\n",
       "      <td>8</td>\n",
       "      <td>6</td>\n",
       "    </tr>\n",
       "    <tr>\n",
       "      <th>4</th>\n",
       "      <td>16</td>\n",
       "      <td>36.0</td>\n",
       "      <td>125.00</td>\n",
       "      <td>4.0</td>\n",
       "      <td>4.0</td>\n",
       "      <td>4.504429</td>\n",
       "      <td>5.0</td>\n",
       "      <td>10.0</td>\n",
       "      <td>2</td>\n",
       "      <td>4</td>\n",
       "      <td>8</td>\n",
       "      <td>6</td>\n",
       "    </tr>\n",
       "    <tr>\n",
       "      <th>...</th>\n",
       "      <td>...</td>\n",
       "      <td>...</td>\n",
       "      <td>...</td>\n",
       "      <td>...</td>\n",
       "      <td>...</td>\n",
       "      <td>...</td>\n",
       "      <td>...</td>\n",
       "      <td>...</td>\n",
       "      <td>...</td>\n",
       "      <td>...</td>\n",
       "      <td>...</td>\n",
       "      <td>...</td>\n",
       "    </tr>\n",
       "    <tr>\n",
       "      <th>2358</th>\n",
       "      <td>10</td>\n",
       "      <td>78.0</td>\n",
       "      <td>66.03</td>\n",
       "      <td>3.0</td>\n",
       "      <td>3.0</td>\n",
       "      <td>4.500000</td>\n",
       "      <td>2.0</td>\n",
       "      <td>4.5</td>\n",
       "      <td>2</td>\n",
       "      <td>4</td>\n",
       "      <td>8</td>\n",
       "      <td>6</td>\n",
       "    </tr>\n",
       "    <tr>\n",
       "      <th>2359</th>\n",
       "      <td>8</td>\n",
       "      <td>68.0</td>\n",
       "      <td>132.35</td>\n",
       "      <td>3.0</td>\n",
       "      <td>2.0</td>\n",
       "      <td>5.000000</td>\n",
       "      <td>5.0</td>\n",
       "      <td>8.0</td>\n",
       "      <td>2</td>\n",
       "      <td>4</td>\n",
       "      <td>8</td>\n",
       "      <td>6</td>\n",
       "    </tr>\n",
       "    <tr>\n",
       "      <th>2360</th>\n",
       "      <td>16</td>\n",
       "      <td>30.0</td>\n",
       "      <td>116.67</td>\n",
       "      <td>4.0</td>\n",
       "      <td>6.0</td>\n",
       "      <td>4.504429</td>\n",
       "      <td>5.0</td>\n",
       "      <td>4.9</td>\n",
       "      <td>2</td>\n",
       "      <td>3</td>\n",
       "      <td>8</td>\n",
       "      <td>6</td>\n",
       "    </tr>\n",
       "    <tr>\n",
       "      <th>2361</th>\n",
       "      <td>10</td>\n",
       "      <td>50.0</td>\n",
       "      <td>113.60</td>\n",
       "      <td>3.0</td>\n",
       "      <td>3.0</td>\n",
       "      <td>5.000000</td>\n",
       "      <td>5.0</td>\n",
       "      <td>4.9</td>\n",
       "      <td>2</td>\n",
       "      <td>4</td>\n",
       "      <td>8</td>\n",
       "      <td>6</td>\n",
       "    </tr>\n",
       "    <tr>\n",
       "      <th>2362</th>\n",
       "      <td>8</td>\n",
       "      <td>63.0</td>\n",
       "      <td>201.59</td>\n",
       "      <td>4.0</td>\n",
       "      <td>4.0</td>\n",
       "      <td>4.500000</td>\n",
       "      <td>4.0</td>\n",
       "      <td>5.0</td>\n",
       "      <td>2</td>\n",
       "      <td>3</td>\n",
       "      <td>8</td>\n",
       "      <td>6</td>\n",
       "    </tr>\n",
       "  </tbody>\n",
       "</table>\n",
       "<p>2363 rows × 12 columns</p>\n",
       "</div>"
      ],
      "text/plain": [
       "      location  size  Price_per_m2  bedroom  toi_list  mat_tien  floor  \\\n",
       "0            5  60.0        121.67      3.0       4.0  5.000000    5.0   \n",
       "1            5  35.0        128.57      3.0       4.0  4.000000    5.0   \n",
       "2           19  46.0        188.04      4.0       4.0  4.504429    4.0   \n",
       "3           16  46.0        105.44      4.0       3.0  4.700000    5.0   \n",
       "4           16  36.0        125.00      4.0       4.0  4.504429    5.0   \n",
       "...        ...   ...           ...      ...       ...       ...    ...   \n",
       "2358        10  78.0         66.03      3.0       3.0  4.500000    2.0   \n",
       "2359         8  68.0        132.35      3.0       2.0  5.000000    5.0   \n",
       "2360        16  30.0        116.67      4.0       6.0  4.504429    5.0   \n",
       "2361        10  50.0        113.60      3.0       3.0  5.000000    5.0   \n",
       "2362         8  63.0        201.59      4.0       4.0  4.500000    4.0   \n",
       "\n",
       "      duong_vao  phap_ly  noi_that  Huong  Huong_ban_cong  \n",
       "0           4.9        2         1      8               6  \n",
       "1           4.9        2         3      8               6  \n",
       "2           4.9        2         3      8               6  \n",
       "3           4.9        2         4      8               6  \n",
       "4          10.0        2         4      8               6  \n",
       "...         ...      ...       ...    ...             ...  \n",
       "2358        4.5        2         4      8               6  \n",
       "2359        8.0        2         4      8               6  \n",
       "2360        4.9        2         3      8               6  \n",
       "2361        4.9        2         4      8               6  \n",
       "2362        5.0        2         3      8               6  \n",
       "\n",
       "[2363 rows x 12 columns]"
      ]
     },
     "execution_count": 4,
     "metadata": {},
     "output_type": "execute_result"
    }
   ],
   "source": [
    "y=df['price']\n",
    "X=df.drop(['price'], axis = 1)\n",
    "X"
   ]
  },
  {
   "cell_type": "markdown",
   "id": "de34b36d",
   "metadata": {},
   "source": [
    "## Spliting Data"
   ]
  },
  {
   "cell_type": "code",
   "execution_count": 5,
   "id": "d62c273b",
   "metadata": {},
   "outputs": [],
   "source": [
    "X_train, X_test, y_train, y_test = train_test_split(X, y, test_size=0.2, random_state=42)"
   ]
  },
  {
   "cell_type": "markdown",
   "id": "78dbfa0e",
   "metadata": {},
   "source": [
    "### Linear Regression"
   ]
  },
  {
   "cell_type": "code",
   "execution_count": 6,
   "id": "6fb77544",
   "metadata": {},
   "outputs": [],
   "source": [
    "reg = LinearRegression().fit(X_train, y_train)"
   ]
  },
  {
   "cell_type": "code",
   "execution_count": 7,
   "id": "f16ce653",
   "metadata": {},
   "outputs": [],
   "source": [
    "y_train_pred = reg.predict(X_train)\n",
    "y_test_pred = reg.predict(X_test)"
   ]
  },
  {
   "cell_type": "code",
   "execution_count": 8,
   "id": "24917039",
   "metadata": {},
   "outputs": [
    {
     "data": {
      "text/plain": [
       "0.7416546287843427"
      ]
     },
     "execution_count": 8,
     "metadata": {},
     "output_type": "execute_result"
    }
   ],
   "source": [
    "r2_score(y_test, y_test_pred)"
   ]
  },
  {
   "cell_type": "code",
   "execution_count": 9,
   "id": "a1e93608",
   "metadata": {},
   "outputs": [
    {
     "name": "stdout",
     "output_type": "stream",
     "text": [
      "Absolute Error 1.0793656808808927\n",
      "Squared Error 1.7399434272644283\n"
     ]
    }
   ],
   "source": [
    "print(\"Absolute Error\", mean_absolute_error(y_test,y_test_pred))\n",
    "print(\"Squared Error\", mean_squared_error(y_test, y_test_pred)**(0.5))"
   ]
  },
  {
   "cell_type": "markdown",
   "id": "618e3abf",
   "metadata": {},
   "source": [
    "### Support Vector Regression"
   ]
  },
  {
   "cell_type": "code",
   "execution_count": 10,
   "id": "60fdea75",
   "metadata": {},
   "outputs": [],
   "source": [
    "from sklearn.svm import SVR\n",
    "from sklearn.model_selection import GridSearchCV"
   ]
  },
  {
   "cell_type": "code",
   "execution_count": 11,
   "id": "976d4a00",
   "metadata": {},
   "outputs": [
    {
     "data": {
      "text/html": [
       "<style>#sk-container-id-1 {color: black;background-color: white;}#sk-container-id-1 pre{padding: 0;}#sk-container-id-1 div.sk-toggleable {background-color: white;}#sk-container-id-1 label.sk-toggleable__label {cursor: pointer;display: block;width: 100%;margin-bottom: 0;padding: 0.3em;box-sizing: border-box;text-align: center;}#sk-container-id-1 label.sk-toggleable__label-arrow:before {content: \"▸\";float: left;margin-right: 0.25em;color: #696969;}#sk-container-id-1 label.sk-toggleable__label-arrow:hover:before {color: black;}#sk-container-id-1 div.sk-estimator:hover label.sk-toggleable__label-arrow:before {color: black;}#sk-container-id-1 div.sk-toggleable__content {max-height: 0;max-width: 0;overflow: hidden;text-align: left;background-color: #f0f8ff;}#sk-container-id-1 div.sk-toggleable__content pre {margin: 0.2em;color: black;border-radius: 0.25em;background-color: #f0f8ff;}#sk-container-id-1 input.sk-toggleable__control:checked~div.sk-toggleable__content {max-height: 200px;max-width: 100%;overflow: auto;}#sk-container-id-1 input.sk-toggleable__control:checked~label.sk-toggleable__label-arrow:before {content: \"▾\";}#sk-container-id-1 div.sk-estimator input.sk-toggleable__control:checked~label.sk-toggleable__label {background-color: #d4ebff;}#sk-container-id-1 div.sk-label input.sk-toggleable__control:checked~label.sk-toggleable__label {background-color: #d4ebff;}#sk-container-id-1 input.sk-hidden--visually {border: 0;clip: rect(1px 1px 1px 1px);clip: rect(1px, 1px, 1px, 1px);height: 1px;margin: -1px;overflow: hidden;padding: 0;position: absolute;width: 1px;}#sk-container-id-1 div.sk-estimator {font-family: monospace;background-color: #f0f8ff;border: 1px dotted black;border-radius: 0.25em;box-sizing: border-box;margin-bottom: 0.5em;}#sk-container-id-1 div.sk-estimator:hover {background-color: #d4ebff;}#sk-container-id-1 div.sk-parallel-item::after {content: \"\";width: 100%;border-bottom: 1px solid gray;flex-grow: 1;}#sk-container-id-1 div.sk-label:hover label.sk-toggleable__label {background-color: #d4ebff;}#sk-container-id-1 div.sk-serial::before {content: \"\";position: absolute;border-left: 1px solid gray;box-sizing: border-box;top: 0;bottom: 0;left: 50%;z-index: 0;}#sk-container-id-1 div.sk-serial {display: flex;flex-direction: column;align-items: center;background-color: white;padding-right: 0.2em;padding-left: 0.2em;position: relative;}#sk-container-id-1 div.sk-item {position: relative;z-index: 1;}#sk-container-id-1 div.sk-parallel {display: flex;align-items: stretch;justify-content: center;background-color: white;position: relative;}#sk-container-id-1 div.sk-item::before, #sk-container-id-1 div.sk-parallel-item::before {content: \"\";position: absolute;border-left: 1px solid gray;box-sizing: border-box;top: 0;bottom: 0;left: 50%;z-index: -1;}#sk-container-id-1 div.sk-parallel-item {display: flex;flex-direction: column;z-index: 1;position: relative;background-color: white;}#sk-container-id-1 div.sk-parallel-item:first-child::after {align-self: flex-end;width: 50%;}#sk-container-id-1 div.sk-parallel-item:last-child::after {align-self: flex-start;width: 50%;}#sk-container-id-1 div.sk-parallel-item:only-child::after {width: 0;}#sk-container-id-1 div.sk-dashed-wrapped {border: 1px dashed gray;margin: 0 0.4em 0.5em 0.4em;box-sizing: border-box;padding-bottom: 0.4em;background-color: white;}#sk-container-id-1 div.sk-label label {font-family: monospace;font-weight: bold;display: inline-block;line-height: 1.2em;}#sk-container-id-1 div.sk-label-container {text-align: center;}#sk-container-id-1 div.sk-container {/* jupyter's `normalize.less` sets `[hidden] { display: none; }` but bootstrap.min.css set `[hidden] { display: none !important; }` so we also need the `!important` here to be able to override the default hidden behavior on the sphinx rendered scikit-learn.org. See: https://github.com/scikit-learn/scikit-learn/issues/21755 */display: inline-block !important;position: relative;}#sk-container-id-1 div.sk-text-repr-fallback {display: none;}</style><div id=\"sk-container-id-1\" class=\"sk-top-container\"><div class=\"sk-text-repr-fallback\"><pre>SVR(kernel=&#x27;linear&#x27;)</pre><b>In a Jupyter environment, please rerun this cell to show the HTML representation or trust the notebook. <br />On GitHub, the HTML representation is unable to render, please try loading this page with nbviewer.org.</b></div><div class=\"sk-container\" hidden><div class=\"sk-item\"><div class=\"sk-estimator sk-toggleable\"><input class=\"sk-toggleable__control sk-hidden--visually\" id=\"sk-estimator-id-1\" type=\"checkbox\" checked><label for=\"sk-estimator-id-1\" class=\"sk-toggleable__label sk-toggleable__label-arrow\">SVR</label><div class=\"sk-toggleable__content\"><pre>SVR(kernel=&#x27;linear&#x27;)</pre></div></div></div></div></div>"
      ],
      "text/plain": [
       "SVR(kernel='linear')"
      ]
     },
     "execution_count": 11,
     "metadata": {},
     "output_type": "execute_result"
    }
   ],
   "source": [
    "svr_model = SVR(kernel='linear')\n",
    "svr_model.fit(X_train, y_train)"
   ]
  },
  {
   "cell_type": "code",
   "execution_count": 12,
   "id": "4b211c43",
   "metadata": {},
   "outputs": [],
   "source": [
    "y_train_svm_pred = svr_model.predict(X_train)\n",
    "y_test_svm_pred = svr_model.predict(X_test)"
   ]
  },
  {
   "cell_type": "code",
   "execution_count": 13,
   "id": "99e32785",
   "metadata": {},
   "outputs": [
    {
     "data": {
      "text/plain": [
       "0.7280064071500552"
      ]
     },
     "execution_count": 13,
     "metadata": {},
     "output_type": "execute_result"
    }
   ],
   "source": [
    "r2_score(y_test, y_test_svm_pred)"
   ]
  },
  {
   "cell_type": "code",
   "execution_count": 14,
   "id": "f9c6eac0",
   "metadata": {},
   "outputs": [
    {
     "name": "stdout",
     "output_type": "stream",
     "text": [
      "Absolute Error 0.9537033433232448\n",
      "Squared Error 1.7853119928425283\n"
     ]
    }
   ],
   "source": [
    "print(\"Absolute Error\", mean_absolute_error(y_test,y_test_svm_pred))\n",
    "print(\"Squared Error\", mean_squared_error(y_test, y_test_svm_pred)**(0.5))"
   ]
  },
  {
   "cell_type": "markdown",
   "id": "3936766a",
   "metadata": {},
   "source": [
    "### Random Forest"
   ]
  },
  {
   "cell_type": "code",
   "execution_count": 16,
   "id": "8b46beea",
   "metadata": {},
   "outputs": [],
   "source": [
    "from sklearn.model_selection import RandomizedSearchCV\n",
    "from sklearn.ensemble import RandomForestRegressor\n",
    "import numpy as np"
   ]
  },
  {
   "cell_type": "code",
   "execution_count": 17,
   "id": "038c5c29",
   "metadata": {},
   "outputs": [],
   "source": [
    "# Number of trees in random forest\n",
    "n_estimators = [int(x) for x in np.linspace(start = 200, stop = 2000, num = 10)]\n",
    "# Number of features to consider at every split\n",
    "max_features = ['auto', 'sqrt', 'log2']\n",
    "# Maximum number of levels in tree\n",
    "max_depth = [int(x) for x in np.linspace(10, 110, num = 11)]\n",
    "max_depth.append(None)\n",
    "# Minimum number of samples required to split a node\n",
    "min_samples_split = [2, 5, 10]\n",
    "# Minimum number of samples required at each leaf node\n",
    "min_samples_leaf = [1, 2, 4]\n",
    "# Method of selecting samples for training each tree\n",
    "bootstrap = [True, False]\n",
    "# Create the random grid\n",
    "random_grid = {'n_estimators': n_estimators,\n",
    "               'max_features': max_features,\n",
    "               'max_depth': max_depth,\n",
    "               'min_samples_split': min_samples_split,\n",
    "               'min_samples_leaf': min_samples_leaf,\n",
    "               'bootstrap': bootstrap}\n",
    "            \n",
    "     "
   ]
  },
  {
   "cell_type": "code",
   "execution_count": 18,
   "id": "aea49916",
   "metadata": {},
   "outputs": [],
   "source": [
    "# Use the random grid to search for best hyperparameters\n",
    "# First create the base model to tune\n",
    "rf = RandomForestRegressor()\n",
    "# Random search of parameters, using 3 fold cross validation, \n",
    "# search across 100 different combinations, and use all available cores\n",
    "rf_random = RandomizedSearchCV(estimator = rf, param_distributions = random_grid, n_iter = 10, cv = 3, verbose=2, random_state=42, n_jobs = -1)\n"
   ]
  },
  {
   "cell_type": "code",
   "execution_count": 19,
   "id": "759e649b",
   "metadata": {
    "scrolled": true
   },
   "outputs": [
    {
     "name": "stdout",
     "output_type": "stream",
     "text": [
      "Fitting 3 folds for each of 10 candidates, totalling 30 fits\n"
     ]
    },
    {
     "data": {
      "text/html": [
       "<style>#sk-container-id-2 {color: black;background-color: white;}#sk-container-id-2 pre{padding: 0;}#sk-container-id-2 div.sk-toggleable {background-color: white;}#sk-container-id-2 label.sk-toggleable__label {cursor: pointer;display: block;width: 100%;margin-bottom: 0;padding: 0.3em;box-sizing: border-box;text-align: center;}#sk-container-id-2 label.sk-toggleable__label-arrow:before {content: \"▸\";float: left;margin-right: 0.25em;color: #696969;}#sk-container-id-2 label.sk-toggleable__label-arrow:hover:before {color: black;}#sk-container-id-2 div.sk-estimator:hover label.sk-toggleable__label-arrow:before {color: black;}#sk-container-id-2 div.sk-toggleable__content {max-height: 0;max-width: 0;overflow: hidden;text-align: left;background-color: #f0f8ff;}#sk-container-id-2 div.sk-toggleable__content pre {margin: 0.2em;color: black;border-radius: 0.25em;background-color: #f0f8ff;}#sk-container-id-2 input.sk-toggleable__control:checked~div.sk-toggleable__content {max-height: 200px;max-width: 100%;overflow: auto;}#sk-container-id-2 input.sk-toggleable__control:checked~label.sk-toggleable__label-arrow:before {content: \"▾\";}#sk-container-id-2 div.sk-estimator input.sk-toggleable__control:checked~label.sk-toggleable__label {background-color: #d4ebff;}#sk-container-id-2 div.sk-label input.sk-toggleable__control:checked~label.sk-toggleable__label {background-color: #d4ebff;}#sk-container-id-2 input.sk-hidden--visually {border: 0;clip: rect(1px 1px 1px 1px);clip: rect(1px, 1px, 1px, 1px);height: 1px;margin: -1px;overflow: hidden;padding: 0;position: absolute;width: 1px;}#sk-container-id-2 div.sk-estimator {font-family: monospace;background-color: #f0f8ff;border: 1px dotted black;border-radius: 0.25em;box-sizing: border-box;margin-bottom: 0.5em;}#sk-container-id-2 div.sk-estimator:hover {background-color: #d4ebff;}#sk-container-id-2 div.sk-parallel-item::after {content: \"\";width: 100%;border-bottom: 1px solid gray;flex-grow: 1;}#sk-container-id-2 div.sk-label:hover label.sk-toggleable__label {background-color: #d4ebff;}#sk-container-id-2 div.sk-serial::before {content: \"\";position: absolute;border-left: 1px solid gray;box-sizing: border-box;top: 0;bottom: 0;left: 50%;z-index: 0;}#sk-container-id-2 div.sk-serial {display: flex;flex-direction: column;align-items: center;background-color: white;padding-right: 0.2em;padding-left: 0.2em;position: relative;}#sk-container-id-2 div.sk-item {position: relative;z-index: 1;}#sk-container-id-2 div.sk-parallel {display: flex;align-items: stretch;justify-content: center;background-color: white;position: relative;}#sk-container-id-2 div.sk-item::before, #sk-container-id-2 div.sk-parallel-item::before {content: \"\";position: absolute;border-left: 1px solid gray;box-sizing: border-box;top: 0;bottom: 0;left: 50%;z-index: -1;}#sk-container-id-2 div.sk-parallel-item {display: flex;flex-direction: column;z-index: 1;position: relative;background-color: white;}#sk-container-id-2 div.sk-parallel-item:first-child::after {align-self: flex-end;width: 50%;}#sk-container-id-2 div.sk-parallel-item:last-child::after {align-self: flex-start;width: 50%;}#sk-container-id-2 div.sk-parallel-item:only-child::after {width: 0;}#sk-container-id-2 div.sk-dashed-wrapped {border: 1px dashed gray;margin: 0 0.4em 0.5em 0.4em;box-sizing: border-box;padding-bottom: 0.4em;background-color: white;}#sk-container-id-2 div.sk-label label {font-family: monospace;font-weight: bold;display: inline-block;line-height: 1.2em;}#sk-container-id-2 div.sk-label-container {text-align: center;}#sk-container-id-2 div.sk-container {/* jupyter's `normalize.less` sets `[hidden] { display: none; }` but bootstrap.min.css set `[hidden] { display: none !important; }` so we also need the `!important` here to be able to override the default hidden behavior on the sphinx rendered scikit-learn.org. See: https://github.com/scikit-learn/scikit-learn/issues/21755 */display: inline-block !important;position: relative;}#sk-container-id-2 div.sk-text-repr-fallback {display: none;}</style><div id=\"sk-container-id-2\" class=\"sk-top-container\"><div class=\"sk-text-repr-fallback\"><pre>RandomizedSearchCV(cv=3, estimator=RandomForestRegressor(), n_jobs=-1,\n",
       "                   param_distributions={&#x27;bootstrap&#x27;: [True, False],\n",
       "                                        &#x27;max_depth&#x27;: [10, 20, 30, 40, 50, 60,\n",
       "                                                      70, 80, 90, 100, 110,\n",
       "                                                      None],\n",
       "                                        &#x27;max_features&#x27;: [&#x27;auto&#x27;, &#x27;sqrt&#x27;,\n",
       "                                                         &#x27;log2&#x27;],\n",
       "                                        &#x27;min_samples_leaf&#x27;: [1, 2, 4],\n",
       "                                        &#x27;min_samples_split&#x27;: [2, 5, 10],\n",
       "                                        &#x27;n_estimators&#x27;: [200, 400, 600, 800,\n",
       "                                                         1000, 1200, 1400, 1600,\n",
       "                                                         1800, 2000]},\n",
       "                   random_state=42, verbose=2)</pre><b>In a Jupyter environment, please rerun this cell to show the HTML representation or trust the notebook. <br />On GitHub, the HTML representation is unable to render, please try loading this page with nbviewer.org.</b></div><div class=\"sk-container\" hidden><div class=\"sk-item sk-dashed-wrapped\"><div class=\"sk-label-container\"><div class=\"sk-label sk-toggleable\"><input class=\"sk-toggleable__control sk-hidden--visually\" id=\"sk-estimator-id-2\" type=\"checkbox\" ><label for=\"sk-estimator-id-2\" class=\"sk-toggleable__label sk-toggleable__label-arrow\">RandomizedSearchCV</label><div class=\"sk-toggleable__content\"><pre>RandomizedSearchCV(cv=3, estimator=RandomForestRegressor(), n_jobs=-1,\n",
       "                   param_distributions={&#x27;bootstrap&#x27;: [True, False],\n",
       "                                        &#x27;max_depth&#x27;: [10, 20, 30, 40, 50, 60,\n",
       "                                                      70, 80, 90, 100, 110,\n",
       "                                                      None],\n",
       "                                        &#x27;max_features&#x27;: [&#x27;auto&#x27;, &#x27;sqrt&#x27;,\n",
       "                                                         &#x27;log2&#x27;],\n",
       "                                        &#x27;min_samples_leaf&#x27;: [1, 2, 4],\n",
       "                                        &#x27;min_samples_split&#x27;: [2, 5, 10],\n",
       "                                        &#x27;n_estimators&#x27;: [200, 400, 600, 800,\n",
       "                                                         1000, 1200, 1400, 1600,\n",
       "                                                         1800, 2000]},\n",
       "                   random_state=42, verbose=2)</pre></div></div></div><div class=\"sk-parallel\"><div class=\"sk-parallel-item\"><div class=\"sk-item\"><div class=\"sk-label-container\"><div class=\"sk-label sk-toggleable\"><input class=\"sk-toggleable__control sk-hidden--visually\" id=\"sk-estimator-id-3\" type=\"checkbox\" ><label for=\"sk-estimator-id-3\" class=\"sk-toggleable__label sk-toggleable__label-arrow\">estimator: RandomForestRegressor</label><div class=\"sk-toggleable__content\"><pre>RandomForestRegressor()</pre></div></div></div><div class=\"sk-serial\"><div class=\"sk-item\"><div class=\"sk-estimator sk-toggleable\"><input class=\"sk-toggleable__control sk-hidden--visually\" id=\"sk-estimator-id-4\" type=\"checkbox\" ><label for=\"sk-estimator-id-4\" class=\"sk-toggleable__label sk-toggleable__label-arrow\">RandomForestRegressor</label><div class=\"sk-toggleable__content\"><pre>RandomForestRegressor()</pre></div></div></div></div></div></div></div></div></div></div>"
      ],
      "text/plain": [
       "RandomizedSearchCV(cv=3, estimator=RandomForestRegressor(), n_jobs=-1,\n",
       "                   param_distributions={'bootstrap': [True, False],\n",
       "                                        'max_depth': [10, 20, 30, 40, 50, 60,\n",
       "                                                      70, 80, 90, 100, 110,\n",
       "                                                      None],\n",
       "                                        'max_features': ['auto', 'sqrt',\n",
       "                                                         'log2'],\n",
       "                                        'min_samples_leaf': [1, 2, 4],\n",
       "                                        'min_samples_split': [2, 5, 10],\n",
       "                                        'n_estimators': [200, 400, 600, 800,\n",
       "                                                         1000, 1200, 1400, 1600,\n",
       "                                                         1800, 2000]},\n",
       "                   random_state=42, verbose=2)"
      ]
     },
     "execution_count": 19,
     "metadata": {},
     "output_type": "execute_result"
    }
   ],
   "source": [
    "# Fit the random search model\n",
    "rf_random.fit(X_train, y_train)"
   ]
  },
  {
   "cell_type": "code",
   "execution_count": 20,
   "id": "71797d2c",
   "metadata": {
    "scrolled": true
   },
   "outputs": [
    {
     "data": {
      "text/plain": [
       "{'n_estimators': 1400,\n",
       " 'min_samples_split': 2,\n",
       " 'min_samples_leaf': 1,\n",
       " 'max_features': 'sqrt',\n",
       " 'max_depth': 80,\n",
       " 'bootstrap': False}"
      ]
     },
     "execution_count": 20,
     "metadata": {},
     "output_type": "execute_result"
    }
   ],
   "source": [
    "rf_random.best_params_"
   ]
  },
  {
   "cell_type": "code",
   "execution_count": 21,
   "id": "f1bd2de7",
   "metadata": {},
   "outputs": [],
   "source": [
    "model_final = rf_random.best_estimator_"
   ]
  },
  {
   "cell_type": "code",
   "execution_count": 22,
   "id": "260f8b85",
   "metadata": {
    "scrolled": true
   },
   "outputs": [
    {
     "data": {
      "text/plain": [
       "{'bootstrap': False,\n",
       " 'ccp_alpha': 0.0,\n",
       " 'criterion': 'squared_error',\n",
       " 'max_depth': 80,\n",
       " 'max_features': 'sqrt',\n",
       " 'max_leaf_nodes': None,\n",
       " 'max_samples': None,\n",
       " 'min_impurity_decrease': 0.0,\n",
       " 'min_samples_leaf': 1,\n",
       " 'min_samples_split': 2,\n",
       " 'min_weight_fraction_leaf': 0.0,\n",
       " 'n_estimators': 1400,\n",
       " 'n_jobs': None,\n",
       " 'oob_score': False,\n",
       " 'random_state': None,\n",
       " 'verbose': 0,\n",
       " 'warm_start': False}"
      ]
     },
     "execution_count": 22,
     "metadata": {},
     "output_type": "execute_result"
    }
   ],
   "source": [
    "model_final.get_params()"
   ]
  },
  {
   "cell_type": "code",
   "execution_count": 23,
   "id": "0670b663",
   "metadata": {},
   "outputs": [],
   "source": [
    "y_train_rf_pred = model_final.predict(X_train)\n",
    "y_test_rf_pred = model_final.predict(X_test)"
   ]
  },
  {
   "cell_type": "code",
   "execution_count": 24,
   "id": "75083e37",
   "metadata": {
    "scrolled": true
   },
   "outputs": [
    {
     "data": {
      "text/plain": [
       "0.8939103644101356"
      ]
     },
     "execution_count": 24,
     "metadata": {},
     "output_type": "execute_result"
    }
   ],
   "source": [
    "r2_score(y_test, y_test_rf_pred)"
   ]
  },
  {
   "cell_type": "code",
   "execution_count": 25,
   "id": "72307d54",
   "metadata": {},
   "outputs": [
    {
     "name": "stdout",
     "output_type": "stream",
     "text": [
      "Absolute Error 0.5813673814557688\n",
      "Squared Error 1.1149907495162854\n"
     ]
    }
   ],
   "source": [
    "print(\"Absolute Error\", mean_absolute_error(y_test,y_test_rf_pred))\n",
    "print(\"Squared Error\", mean_squared_error(y_test, y_test_rf_pred)**(0.5))"
   ]
  },
  {
   "cell_type": "code",
   "execution_count": 26,
   "id": "4f669fa0",
   "metadata": {},
   "outputs": [],
   "source": [
    "import pickle\n",
    "pickle.dump(model_final,open('./model/model_rf.pickle',mode='wb'))"
   ]
  },
  {
   "cell_type": "code",
   "execution_count": 27,
   "id": "e61f15a5",
   "metadata": {},
   "outputs": [],
   "source": [
    "pickle.dump(svr_model,open('./model/svr_model.pickle',mode='wb'))\n",
    "pickle.dump(reg,open('./model/model_Linear.pickle',mode='wb'))"
   ]
  },
  {
   "cell_type": "markdown",
   "id": "d567791b",
   "metadata": {},
   "source": [
    "### Decision Tree"
   ]
  },
  {
   "cell_type": "code",
   "execution_count": 28,
   "id": "71326065",
   "metadata": {},
   "outputs": [],
   "source": [
    "from sklearn.tree import DecisionTreeRegressor \n",
    "from sklearn.model_selection import GridSearchCV"
   ]
  },
  {
   "cell_type": "code",
   "execution_count": 29,
   "id": "50a3f026",
   "metadata": {},
   "outputs": [],
   "source": [
    "param_grid = {'max_depth': [5, 10, None], 'max_features': ['auto', 'log2', 'sqrt'], 'min_samples_leaf': [5, 6, 7, 9,11, 12, 13, 15]}\n",
    "reg_decision_model = DecisionTreeRegressor(random_state = 42) "
   ]
  },
  {
   "cell_type": "code",
   "execution_count": 30,
   "id": "28e800fa",
   "metadata": {},
   "outputs": [
    {
     "data": {
      "text/plain": [
       "dict_keys(['ccp_alpha', 'criterion', 'max_depth', 'max_features', 'max_leaf_nodes', 'min_impurity_decrease', 'min_samples_leaf', 'min_samples_split', 'min_weight_fraction_leaf', 'random_state', 'splitter'])"
      ]
     },
     "execution_count": 30,
     "metadata": {},
     "output_type": "execute_result"
    }
   ],
   "source": [
    "reg_decision_model.get_params().keys()"
   ]
  },
  {
   "cell_type": "code",
   "execution_count": 31,
   "id": "3ef0368f",
   "metadata": {
    "scrolled": true
   },
   "outputs": [
    {
     "name": "stdout",
     "output_type": "stream",
     "text": [
      "Fitting 3 folds for each of 72 candidates, totalling 216 fits\n",
      "[CV 1/3] END max_depth=5, max_features=auto, min_samples_leaf=5;, score=-1.236 total time=   0.0s\n",
      "[CV 2/3] END max_depth=5, max_features=auto, min_samples_leaf=5;, score=-1.178 total time=   0.0s\n",
      "[CV 3/3] END max_depth=5, max_features=auto, min_samples_leaf=5;, score=-1.238 total time=   0.0s\n",
      "[CV 1/3] END max_depth=5, max_features=auto, min_samples_leaf=6;, score=-1.251 total time=   0.0s\n",
      "[CV 2/3] END max_depth=5, max_features=auto, min_samples_leaf=6;, score=-1.176 total time=   0.0s\n",
      "[CV 3/3] END max_depth=5, max_features=auto, min_samples_leaf=6;, score=-1.242 total time=   0.0s\n",
      "[CV 1/3] END max_depth=5, max_features=auto, min_samples_leaf=7;, score=-1.280 total time=   0.0s\n",
      "[CV 2/3] END max_depth=5, max_features=auto, min_samples_leaf=7;, score=-1.190 total time=   0.0s\n",
      "[CV 3/3] END max_depth=5, max_features=auto, min_samples_leaf=7;, score=-1.242 total time=   0.0s\n",
      "[CV 1/3] END max_depth=5, max_features=auto, min_samples_leaf=9;, score=-1.261 total time=   0.0s\n",
      "[CV 2/3] END max_depth=5, max_features=auto, min_samples_leaf=9;, score=-1.189 total time=   0.0s\n"
     ]
    },
    {
     "name": "stderr",
     "output_type": "stream",
     "text": [
      "C:\\Users\\assas\\anaconda3\\lib\\site-packages\\sklearn\\tree\\_classes.py:277: FutureWarning: `max_features='auto'` has been deprecated in 1.1 and will be removed in 1.3. To keep the past behaviour, explicitly set `max_features=1.0'`.\n",
      "  warnings.warn(\n",
      "C:\\Users\\assas\\anaconda3\\lib\\site-packages\\sklearn\\tree\\_classes.py:277: FutureWarning: `max_features='auto'` has been deprecated in 1.1 and will be removed in 1.3. To keep the past behaviour, explicitly set `max_features=1.0'`.\n",
      "  warnings.warn(\n",
      "C:\\Users\\assas\\anaconda3\\lib\\site-packages\\sklearn\\tree\\_classes.py:277: FutureWarning: `max_features='auto'` has been deprecated in 1.1 and will be removed in 1.3. To keep the past behaviour, explicitly set `max_features=1.0'`.\n",
      "  warnings.warn(\n",
      "C:\\Users\\assas\\anaconda3\\lib\\site-packages\\sklearn\\tree\\_classes.py:277: FutureWarning: `max_features='auto'` has been deprecated in 1.1 and will be removed in 1.3. To keep the past behaviour, explicitly set `max_features=1.0'`.\n",
      "  warnings.warn(\n",
      "C:\\Users\\assas\\anaconda3\\lib\\site-packages\\sklearn\\tree\\_classes.py:277: FutureWarning: `max_features='auto'` has been deprecated in 1.1 and will be removed in 1.3. To keep the past behaviour, explicitly set `max_features=1.0'`.\n",
      "  warnings.warn(\n",
      "C:\\Users\\assas\\anaconda3\\lib\\site-packages\\sklearn\\tree\\_classes.py:277: FutureWarning: `max_features='auto'` has been deprecated in 1.1 and will be removed in 1.3. To keep the past behaviour, explicitly set `max_features=1.0'`.\n",
      "  warnings.warn(\n",
      "C:\\Users\\assas\\anaconda3\\lib\\site-packages\\sklearn\\tree\\_classes.py:277: FutureWarning: `max_features='auto'` has been deprecated in 1.1 and will be removed in 1.3. To keep the past behaviour, explicitly set `max_features=1.0'`.\n",
      "  warnings.warn(\n",
      "C:\\Users\\assas\\anaconda3\\lib\\site-packages\\sklearn\\tree\\_classes.py:277: FutureWarning: `max_features='auto'` has been deprecated in 1.1 and will be removed in 1.3. To keep the past behaviour, explicitly set `max_features=1.0'`.\n",
      "  warnings.warn(\n",
      "C:\\Users\\assas\\anaconda3\\lib\\site-packages\\sklearn\\tree\\_classes.py:277: FutureWarning: `max_features='auto'` has been deprecated in 1.1 and will be removed in 1.3. To keep the past behaviour, explicitly set `max_features=1.0'`.\n",
      "  warnings.warn(\n",
      "C:\\Users\\assas\\anaconda3\\lib\\site-packages\\sklearn\\tree\\_classes.py:277: FutureWarning: `max_features='auto'` has been deprecated in 1.1 and will be removed in 1.3. To keep the past behaviour, explicitly set `max_features=1.0'`.\n",
      "  warnings.warn(\n",
      "C:\\Users\\assas\\anaconda3\\lib\\site-packages\\sklearn\\tree\\_classes.py:277: FutureWarning: `max_features='auto'` has been deprecated in 1.1 and will be removed in 1.3. To keep the past behaviour, explicitly set `max_features=1.0'`.\n",
      "  warnings.warn(\n",
      "C:\\Users\\assas\\anaconda3\\lib\\site-packages\\sklearn\\tree\\_classes.py:277: FutureWarning: `max_features='auto'` has been deprecated in 1.1 and will be removed in 1.3. To keep the past behaviour, explicitly set `max_features=1.0'`.\n",
      "  warnings.warn(\n"
     ]
    },
    {
     "name": "stdout",
     "output_type": "stream",
     "text": [
      "[CV 3/3] END max_depth=5, max_features=auto, min_samples_leaf=9;, score=-1.257 total time=   0.0s\n",
      "[CV 1/3] END max_depth=5, max_features=auto, min_samples_leaf=11;, score=-1.294 total time=   0.0s\n",
      "[CV 2/3] END max_depth=5, max_features=auto, min_samples_leaf=11;, score=-1.214 total time=   0.0s\n",
      "[CV 3/3] END max_depth=5, max_features=auto, min_samples_leaf=11;, score=-1.176 total time=   0.0s\n",
      "[CV 1/3] END max_depth=5, max_features=auto, min_samples_leaf=12;, score=-1.291 total time=   0.0s\n",
      "[CV 2/3] END max_depth=5, max_features=auto, min_samples_leaf=12;, score=-1.220 total time=   0.0s\n",
      "[CV 3/3] END max_depth=5, max_features=auto, min_samples_leaf=12;, score=-1.188 total time=   0.0s\n",
      "[CV 1/3] END max_depth=5, max_features=auto, min_samples_leaf=13;, score=-1.295 total time=   0.0s\n",
      "[CV 2/3] END max_depth=5, max_features=auto, min_samples_leaf=13;, score=-1.222 total time=   0.0s\n",
      "[CV 3/3] END max_depth=5, max_features=auto, min_samples_leaf=13;, score=-1.196 total time=   0.0s\n",
      "[CV 1/3] END max_depth=5, max_features=auto, min_samples_leaf=15;, score=-1.290 total time=   0.0s\n",
      "[CV 2/3] END max_depth=5, max_features=auto, min_samples_leaf=15;, score=-1.230 total time=   0.0s\n",
      "[CV 3/3] END max_depth=5, max_features=auto, min_samples_leaf=15;, score=-1.181 total time=   0.0s\n",
      "[CV 1/3] END max_depth=5, max_features=log2, min_samples_leaf=5;, score=-1.519 total time=   0.0s\n",
      "[CV 2/3] END max_depth=5, max_features=log2, min_samples_leaf=5;, score=-1.681 total time=   0.0s\n",
      "[CV 3/3] END max_depth=5, max_features=log2, min_samples_leaf=5;, score=-1.452 total time=   0.0s\n",
      "[CV 1/3] END max_depth=5, max_features=log2, min_samples_leaf=6;, score=-1.529 total time=   0.0s\n",
      "[CV 2/3] END max_depth=5, max_features=log2, min_samples_leaf=6;, score=-1.667 total time=   0.0s\n",
      "[CV 3/3] END max_depth=5, max_features=log2, min_samples_leaf=6;, score=-1.456 total time=   0.0s\n",
      "[CV 1/3] END max_depth=5, max_features=log2, min_samples_leaf=7;, score=-1.502 total time=   0.0s\n",
      "[CV 2/3] END max_depth=5, max_features=log2, min_samples_leaf=7;, score=-1.683 total time=   0.0s\n",
      "[CV 3/3] END max_depth=5, max_features=log2, min_samples_leaf=7;, score=-1.455 total time=   0.0s\n"
     ]
    },
    {
     "name": "stderr",
     "output_type": "stream",
     "text": [
      "C:\\Users\\assas\\anaconda3\\lib\\site-packages\\sklearn\\tree\\_classes.py:277: FutureWarning: `max_features='auto'` has been deprecated in 1.1 and will be removed in 1.3. To keep the past behaviour, explicitly set `max_features=1.0'`.\n",
      "  warnings.warn(\n",
      "C:\\Users\\assas\\anaconda3\\lib\\site-packages\\sklearn\\tree\\_classes.py:277: FutureWarning: `max_features='auto'` has been deprecated in 1.1 and will be removed in 1.3. To keep the past behaviour, explicitly set `max_features=1.0'`.\n",
      "  warnings.warn(\n",
      "C:\\Users\\assas\\anaconda3\\lib\\site-packages\\sklearn\\tree\\_classes.py:277: FutureWarning: `max_features='auto'` has been deprecated in 1.1 and will be removed in 1.3. To keep the past behaviour, explicitly set `max_features=1.0'`.\n",
      "  warnings.warn(\n",
      "C:\\Users\\assas\\anaconda3\\lib\\site-packages\\sklearn\\tree\\_classes.py:277: FutureWarning: `max_features='auto'` has been deprecated in 1.1 and will be removed in 1.3. To keep the past behaviour, explicitly set `max_features=1.0'`.\n",
      "  warnings.warn(\n",
      "C:\\Users\\assas\\anaconda3\\lib\\site-packages\\sklearn\\tree\\_classes.py:277: FutureWarning: `max_features='auto'` has been deprecated in 1.1 and will be removed in 1.3. To keep the past behaviour, explicitly set `max_features=1.0'`.\n",
      "  warnings.warn(\n",
      "C:\\Users\\assas\\anaconda3\\lib\\site-packages\\sklearn\\tree\\_classes.py:277: FutureWarning: `max_features='auto'` has been deprecated in 1.1 and will be removed in 1.3. To keep the past behaviour, explicitly set `max_features=1.0'`.\n",
      "  warnings.warn(\n",
      "C:\\Users\\assas\\anaconda3\\lib\\site-packages\\sklearn\\tree\\_classes.py:277: FutureWarning: `max_features='auto'` has been deprecated in 1.1 and will be removed in 1.3. To keep the past behaviour, explicitly set `max_features=1.0'`.\n",
      "  warnings.warn(\n",
      "C:\\Users\\assas\\anaconda3\\lib\\site-packages\\sklearn\\tree\\_classes.py:277: FutureWarning: `max_features='auto'` has been deprecated in 1.1 and will be removed in 1.3. To keep the past behaviour, explicitly set `max_features=1.0'`.\n",
      "  warnings.warn(\n",
      "C:\\Users\\assas\\anaconda3\\lib\\site-packages\\sklearn\\tree\\_classes.py:277: FutureWarning: `max_features='auto'` has been deprecated in 1.1 and will be removed in 1.3. To keep the past behaviour, explicitly set `max_features=1.0'`.\n",
      "  warnings.warn(\n",
      "C:\\Users\\assas\\anaconda3\\lib\\site-packages\\sklearn\\tree\\_classes.py:277: FutureWarning: `max_features='auto'` has been deprecated in 1.1 and will be removed in 1.3. To keep the past behaviour, explicitly set `max_features=1.0'`.\n",
      "  warnings.warn(\n",
      "C:\\Users\\assas\\anaconda3\\lib\\site-packages\\sklearn\\tree\\_classes.py:277: FutureWarning: `max_features='auto'` has been deprecated in 1.1 and will be removed in 1.3. To keep the past behaviour, explicitly set `max_features=1.0'`.\n",
      "  warnings.warn(\n",
      "C:\\Users\\assas\\anaconda3\\lib\\site-packages\\sklearn\\tree\\_classes.py:277: FutureWarning: `max_features='auto'` has been deprecated in 1.1 and will be removed in 1.3. To keep the past behaviour, explicitly set `max_features=1.0'`.\n",
      "  warnings.warn(\n"
     ]
    },
    {
     "name": "stdout",
     "output_type": "stream",
     "text": [
      "[CV 1/3] END max_depth=5, max_features=log2, min_samples_leaf=9;, score=-1.555 total time=   0.0s\n",
      "[CV 2/3] END max_depth=5, max_features=log2, min_samples_leaf=9;, score=-1.581 total time=   0.0s\n",
      "[CV 3/3] END max_depth=5, max_features=log2, min_samples_leaf=9;, score=-1.520 total time=   0.0s\n",
      "[CV 1/3] END max_depth=5, max_features=log2, min_samples_leaf=11;, score=-1.779 total time=   0.0s\n",
      "[CV 2/3] END max_depth=5, max_features=log2, min_samples_leaf=11;, score=-1.546 total time=   0.0s\n",
      "[CV 3/3] END max_depth=5, max_features=log2, min_samples_leaf=11;, score=-1.529 total time=   0.0s\n",
      "[CV 1/3] END max_depth=5, max_features=log2, min_samples_leaf=12;, score=-1.758 total time=   0.0s\n",
      "[CV 2/3] END max_depth=5, max_features=log2, min_samples_leaf=12;, score=-1.546 total time=   0.0s\n",
      "[CV 3/3] END max_depth=5, max_features=log2, min_samples_leaf=12;, score=-1.567 total time=   0.0s\n",
      "[CV 1/3] END max_depth=5, max_features=log2, min_samples_leaf=13;, score=-1.758 total time=   0.0s\n",
      "[CV 2/3] END max_depth=5, max_features=log2, min_samples_leaf=13;, score=-1.546 total time=   0.0s\n",
      "[CV 3/3] END max_depth=5, max_features=log2, min_samples_leaf=13;, score=-1.573 total time=   0.0s\n",
      "[CV 1/3] END max_depth=5, max_features=log2, min_samples_leaf=15;, score=-1.752 total time=   0.0s\n",
      "[CV 2/3] END max_depth=5, max_features=log2, min_samples_leaf=15;, score=-1.529 total time=   0.0s\n",
      "[CV 3/3] END max_depth=5, max_features=log2, min_samples_leaf=15;, score=-1.572 total time=   0.0s\n",
      "[CV 1/3] END max_depth=5, max_features=sqrt, min_samples_leaf=5;, score=-1.519 total time=   0.0s\n",
      "[CV 2/3] END max_depth=5, max_features=sqrt, min_samples_leaf=5;, score=-1.681 total time=   0.0s\n",
      "[CV 3/3] END max_depth=5, max_features=sqrt, min_samples_leaf=5;, score=-1.452 total time=   0.0s\n",
      "[CV 1/3] END max_depth=5, max_features=sqrt, min_samples_leaf=6;, score=-1.529 total time=   0.0s\n",
      "[CV 2/3] END max_depth=5, max_features=sqrt, min_samples_leaf=6;, score=-1.667 total time=   0.0s\n",
      "[CV 3/3] END max_depth=5, max_features=sqrt, min_samples_leaf=6;, score=-1.456 total time=   0.0s\n",
      "[CV 1/3] END max_depth=5, max_features=sqrt, min_samples_leaf=7;, score=-1.502 total time=   0.0s\n",
      "[CV 2/3] END max_depth=5, max_features=sqrt, min_samples_leaf=7;, score=-1.683 total time=   0.0s\n",
      "[CV 3/3] END max_depth=5, max_features=sqrt, min_samples_leaf=7;, score=-1.455 total time=   0.0s\n",
      "[CV 1/3] END max_depth=5, max_features=sqrt, min_samples_leaf=9;, score=-1.555 total time=   0.0s\n",
      "[CV 2/3] END max_depth=5, max_features=sqrt, min_samples_leaf=9;, score=-1.581 total time=   0.0s\n",
      "[CV 3/3] END max_depth=5, max_features=sqrt, min_samples_leaf=9;, score=-1.520 total time=   0.0s\n",
      "[CV 1/3] END max_depth=5, max_features=sqrt, min_samples_leaf=11;, score=-1.779 total time=   0.0s\n",
      "[CV 2/3] END max_depth=5, max_features=sqrt, min_samples_leaf=11;, score=-1.546 total time=   0.0s\n",
      "[CV 3/3] END max_depth=5, max_features=sqrt, min_samples_leaf=11;, score=-1.529 total time=   0.0s\n",
      "[CV 1/3] END max_depth=5, max_features=sqrt, min_samples_leaf=12;, score=-1.758 total time=   0.0s\n",
      "[CV 2/3] END max_depth=5, max_features=sqrt, min_samples_leaf=12;, score=-1.546 total time=   0.0s\n",
      "[CV 3/3] END max_depth=5, max_features=sqrt, min_samples_leaf=12;, score=-1.567 total time=   0.0s\n",
      "[CV 1/3] END max_depth=5, max_features=sqrt, min_samples_leaf=13;, score=-1.758 total time=   0.0s\n",
      "[CV 2/3] END max_depth=5, max_features=sqrt, min_samples_leaf=13;, score=-1.546 total time=   0.0s\n",
      "[CV 3/3] END max_depth=5, max_features=sqrt, min_samples_leaf=13;, score=-1.573 total time=   0.0s\n",
      "[CV 1/3] END max_depth=5, max_features=sqrt, min_samples_leaf=15;, score=-1.752 total time=   0.0s\n",
      "[CV 2/3] END max_depth=5, max_features=sqrt, min_samples_leaf=15;, score=-1.529 total time=   0.0s\n",
      "[CV 3/3] END max_depth=5, max_features=sqrt, min_samples_leaf=15;, score=-1.572 total time=   0.0s\n",
      "[CV 1/3] END max_depth=10, max_features=auto, min_samples_leaf=5;, score=-1.068 total time=   0.0s\n",
      "[CV 2/3] END max_depth=10, max_features=auto, min_samples_leaf=5;, score=-1.062 total time=   0.0s\n",
      "[CV 3/3] END max_depth=10, max_features=auto, min_samples_leaf=5;, score=-1.086 total time=   0.0s\n",
      "[CV 1/3] END max_depth=10, max_features=auto, min_samples_leaf=6;, score=-1.121 total time=   0.0s\n",
      "[CV 2/3] END max_depth=10, max_features=auto, min_samples_leaf=6;, score=-1.027 total time=   0.0s\n",
      "[CV 3/3] END max_depth=10, max_features=auto, min_samples_leaf=6;, score=-1.067 total time=   0.0s\n",
      "[CV 1/3] END max_depth=10, max_features=auto, min_samples_leaf=7;, score=-1.143 total time=   0.0s\n"
     ]
    },
    {
     "name": "stderr",
     "output_type": "stream",
     "text": [
      "C:\\Users\\assas\\anaconda3\\lib\\site-packages\\sklearn\\tree\\_classes.py:277: FutureWarning: `max_features='auto'` has been deprecated in 1.1 and will be removed in 1.3. To keep the past behaviour, explicitly set `max_features=1.0'`.\n",
      "  warnings.warn(\n",
      "C:\\Users\\assas\\anaconda3\\lib\\site-packages\\sklearn\\tree\\_classes.py:277: FutureWarning: `max_features='auto'` has been deprecated in 1.1 and will be removed in 1.3. To keep the past behaviour, explicitly set `max_features=1.0'`.\n",
      "  warnings.warn(\n",
      "C:\\Users\\assas\\anaconda3\\lib\\site-packages\\sklearn\\tree\\_classes.py:277: FutureWarning: `max_features='auto'` has been deprecated in 1.1 and will be removed in 1.3. To keep the past behaviour, explicitly set `max_features=1.0'`.\n",
      "  warnings.warn(\n",
      "C:\\Users\\assas\\anaconda3\\lib\\site-packages\\sklearn\\tree\\_classes.py:277: FutureWarning: `max_features='auto'` has been deprecated in 1.1 and will be removed in 1.3. To keep the past behaviour, explicitly set `max_features=1.0'`.\n",
      "  warnings.warn(\n",
      "C:\\Users\\assas\\anaconda3\\lib\\site-packages\\sklearn\\tree\\_classes.py:277: FutureWarning: `max_features='auto'` has been deprecated in 1.1 and will be removed in 1.3. To keep the past behaviour, explicitly set `max_features=1.0'`.\n",
      "  warnings.warn(\n",
      "C:\\Users\\assas\\anaconda3\\lib\\site-packages\\sklearn\\tree\\_classes.py:277: FutureWarning: `max_features='auto'` has been deprecated in 1.1 and will be removed in 1.3. To keep the past behaviour, explicitly set `max_features=1.0'`.\n",
      "  warnings.warn(\n",
      "C:\\Users\\assas\\anaconda3\\lib\\site-packages\\sklearn\\tree\\_classes.py:277: FutureWarning: `max_features='auto'` has been deprecated in 1.1 and will be removed in 1.3. To keep the past behaviour, explicitly set `max_features=1.0'`.\n",
      "  warnings.warn(\n",
      "C:\\Users\\assas\\anaconda3\\lib\\site-packages\\sklearn\\tree\\_classes.py:277: FutureWarning: `max_features='auto'` has been deprecated in 1.1 and will be removed in 1.3. To keep the past behaviour, explicitly set `max_features=1.0'`.\n",
      "  warnings.warn(\n",
      "C:\\Users\\assas\\anaconda3\\lib\\site-packages\\sklearn\\tree\\_classes.py:277: FutureWarning: `max_features='auto'` has been deprecated in 1.1 and will be removed in 1.3. To keep the past behaviour, explicitly set `max_features=1.0'`.\n",
      "  warnings.warn(\n",
      "C:\\Users\\assas\\anaconda3\\lib\\site-packages\\sklearn\\tree\\_classes.py:277: FutureWarning: `max_features='auto'` has been deprecated in 1.1 and will be removed in 1.3. To keep the past behaviour, explicitly set `max_features=1.0'`.\n",
      "  warnings.warn(\n",
      "C:\\Users\\assas\\anaconda3\\lib\\site-packages\\sklearn\\tree\\_classes.py:277: FutureWarning: `max_features='auto'` has been deprecated in 1.1 and will be removed in 1.3. To keep the past behaviour, explicitly set `max_features=1.0'`.\n",
      "  warnings.warn(\n",
      "C:\\Users\\assas\\anaconda3\\lib\\site-packages\\sklearn\\tree\\_classes.py:277: FutureWarning: `max_features='auto'` has been deprecated in 1.1 and will be removed in 1.3. To keep the past behaviour, explicitly set `max_features=1.0'`.\n",
      "  warnings.warn(\n",
      "C:\\Users\\assas\\anaconda3\\lib\\site-packages\\sklearn\\tree\\_classes.py:277: FutureWarning: `max_features='auto'` has been deprecated in 1.1 and will be removed in 1.3. To keep the past behaviour, explicitly set `max_features=1.0'`.\n",
      "  warnings.warn(\n",
      "C:\\Users\\assas\\anaconda3\\lib\\site-packages\\sklearn\\tree\\_classes.py:277: FutureWarning: `max_features='auto'` has been deprecated in 1.1 and will be removed in 1.3. To keep the past behaviour, explicitly set `max_features=1.0'`.\n",
      "  warnings.warn(\n",
      "C:\\Users\\assas\\anaconda3\\lib\\site-packages\\sklearn\\tree\\_classes.py:277: FutureWarning: `max_features='auto'` has been deprecated in 1.1 and will be removed in 1.3. To keep the past behaviour, explicitly set `max_features=1.0'`.\n",
      "  warnings.warn(\n"
     ]
    },
    {
     "name": "stdout",
     "output_type": "stream",
     "text": [
      "[CV 2/3] END max_depth=10, max_features=auto, min_samples_leaf=7;, score=-1.048 total time=   0.0s\n",
      "[CV 3/3] END max_depth=10, max_features=auto, min_samples_leaf=7;, score=-1.095 total time=   0.0s\n",
      "[CV 1/3] END max_depth=10, max_features=auto, min_samples_leaf=9;, score=-1.124 total time=   0.0s\n",
      "[CV 2/3] END max_depth=10, max_features=auto, min_samples_leaf=9;, score=-1.081 total time=   0.0s\n",
      "[CV 3/3] END max_depth=10, max_features=auto, min_samples_leaf=9;, score=-1.088 total time=   0.0s\n",
      "[CV 1/3] END max_depth=10, max_features=auto, min_samples_leaf=11;, score=-1.185 total time=   0.0s\n",
      "[CV 2/3] END max_depth=10, max_features=auto, min_samples_leaf=11;, score=-1.079 total time=   0.0s\n",
      "[CV 3/3] END max_depth=10, max_features=auto, min_samples_leaf=11;, score=-1.039 total time=   0.0s\n",
      "[CV 1/3] END max_depth=10, max_features=auto, min_samples_leaf=12;, score=-1.180 total time=   0.0s\n",
      "[CV 2/3] END max_depth=10, max_features=auto, min_samples_leaf=12;, score=-1.086 total time=   0.0s\n",
      "[CV 3/3] END max_depth=10, max_features=auto, min_samples_leaf=12;, score=-1.056 total time=   0.0s\n",
      "[CV 1/3] END max_depth=10, max_features=auto, min_samples_leaf=13;, score=-1.180 total time=   0.0s\n",
      "[CV 2/3] END max_depth=10, max_features=auto, min_samples_leaf=13;, score=-1.093 total time=   0.0s\n",
      "[CV 3/3] END max_depth=10, max_features=auto, min_samples_leaf=13;, score=-1.070 total time=   0.0s\n",
      "[CV 1/3] END max_depth=10, max_features=auto, min_samples_leaf=15;, score=-1.183 total time=   0.0s\n",
      "[CV 2/3] END max_depth=10, max_features=auto, min_samples_leaf=15;, score=-1.093 total time=   0.0s\n",
      "[CV 3/3] END max_depth=10, max_features=auto, min_samples_leaf=15;, score=-1.068 total time=   0.0s\n"
     ]
    },
    {
     "name": "stderr",
     "output_type": "stream",
     "text": [
      "C:\\Users\\assas\\anaconda3\\lib\\site-packages\\sklearn\\tree\\_classes.py:277: FutureWarning: `max_features='auto'` has been deprecated in 1.1 and will be removed in 1.3. To keep the past behaviour, explicitly set `max_features=1.0'`.\n",
      "  warnings.warn(\n",
      "C:\\Users\\assas\\anaconda3\\lib\\site-packages\\sklearn\\tree\\_classes.py:277: FutureWarning: `max_features='auto'` has been deprecated in 1.1 and will be removed in 1.3. To keep the past behaviour, explicitly set `max_features=1.0'`.\n",
      "  warnings.warn(\n",
      "C:\\Users\\assas\\anaconda3\\lib\\site-packages\\sklearn\\tree\\_classes.py:277: FutureWarning: `max_features='auto'` has been deprecated in 1.1 and will be removed in 1.3. To keep the past behaviour, explicitly set `max_features=1.0'`.\n",
      "  warnings.warn(\n",
      "C:\\Users\\assas\\anaconda3\\lib\\site-packages\\sklearn\\tree\\_classes.py:277: FutureWarning: `max_features='auto'` has been deprecated in 1.1 and will be removed in 1.3. To keep the past behaviour, explicitly set `max_features=1.0'`.\n",
      "  warnings.warn(\n",
      "C:\\Users\\assas\\anaconda3\\lib\\site-packages\\sklearn\\tree\\_classes.py:277: FutureWarning: `max_features='auto'` has been deprecated in 1.1 and will be removed in 1.3. To keep the past behaviour, explicitly set `max_features=1.0'`.\n",
      "  warnings.warn(\n",
      "C:\\Users\\assas\\anaconda3\\lib\\site-packages\\sklearn\\tree\\_classes.py:277: FutureWarning: `max_features='auto'` has been deprecated in 1.1 and will be removed in 1.3. To keep the past behaviour, explicitly set `max_features=1.0'`.\n",
      "  warnings.warn(\n",
      "C:\\Users\\assas\\anaconda3\\lib\\site-packages\\sklearn\\tree\\_classes.py:277: FutureWarning: `max_features='auto'` has been deprecated in 1.1 and will be removed in 1.3. To keep the past behaviour, explicitly set `max_features=1.0'`.\n",
      "  warnings.warn(\n",
      "C:\\Users\\assas\\anaconda3\\lib\\site-packages\\sklearn\\tree\\_classes.py:277: FutureWarning: `max_features='auto'` has been deprecated in 1.1 and will be removed in 1.3. To keep the past behaviour, explicitly set `max_features=1.0'`.\n",
      "  warnings.warn(\n",
      "C:\\Users\\assas\\anaconda3\\lib\\site-packages\\sklearn\\tree\\_classes.py:277: FutureWarning: `max_features='auto'` has been deprecated in 1.1 and will be removed in 1.3. To keep the past behaviour, explicitly set `max_features=1.0'`.\n",
      "  warnings.warn(\n"
     ]
    },
    {
     "name": "stdout",
     "output_type": "stream",
     "text": [
      "[CV 1/3] END max_depth=10, max_features=log2, min_samples_leaf=5;, score=-1.433 total time=   0.0s\n",
      "[CV 2/3] END max_depth=10, max_features=log2, min_samples_leaf=5;, score=-1.557 total time=   0.0s\n",
      "[CV 3/3] END max_depth=10, max_features=log2, min_samples_leaf=5;, score=-1.313 total time=   0.0s\n",
      "[CV 1/3] END max_depth=10, max_features=log2, min_samples_leaf=6;, score=-1.507 total time=   0.0s\n",
      "[CV 2/3] END max_depth=10, max_features=log2, min_samples_leaf=6;, score=-1.517 total time=   0.0s\n",
      "[CV 3/3] END max_depth=10, max_features=log2, min_samples_leaf=6;, score=-1.487 total time=   0.0s\n",
      "[CV 1/3] END max_depth=10, max_features=log2, min_samples_leaf=7;, score=-1.397 total time=   0.0s\n",
      "[CV 2/3] END max_depth=10, max_features=log2, min_samples_leaf=7;, score=-1.534 total time=   0.0s\n",
      "[CV 3/3] END max_depth=10, max_features=log2, min_samples_leaf=7;, score=-1.469 total time=   0.0s\n",
      "[CV 1/3] END max_depth=10, max_features=log2, min_samples_leaf=9;, score=-1.517 total time=   0.0s\n",
      "[CV 2/3] END max_depth=10, max_features=log2, min_samples_leaf=9;, score=-1.444 total time=   0.0s\n",
      "[CV 3/3] END max_depth=10, max_features=log2, min_samples_leaf=9;, score=-1.410 total time=   0.0s\n",
      "[CV 1/3] END max_depth=10, max_features=log2, min_samples_leaf=11;, score=-1.443 total time=   0.0s\n",
      "[CV 2/3] END max_depth=10, max_features=log2, min_samples_leaf=11;, score=-1.458 total time=   0.0s\n",
      "[CV 3/3] END max_depth=10, max_features=log2, min_samples_leaf=11;, score=-1.439 total time=   0.0s\n",
      "[CV 1/3] END max_depth=10, max_features=log2, min_samples_leaf=12;, score=-1.596 total time=   0.0s\n",
      "[CV 2/3] END max_depth=10, max_features=log2, min_samples_leaf=12;, score=-1.405 total time=   0.0s\n",
      "[CV 3/3] END max_depth=10, max_features=log2, min_samples_leaf=12;, score=-1.435 total time=   0.0s\n",
      "[CV 1/3] END max_depth=10, max_features=log2, min_samples_leaf=13;, score=-1.382 total time=   0.0s\n",
      "[CV 2/3] END max_depth=10, max_features=log2, min_samples_leaf=13;, score=-1.558 total time=   0.0s\n",
      "[CV 3/3] END max_depth=10, max_features=log2, min_samples_leaf=13;, score=-1.538 total time=   0.0s\n",
      "[CV 1/3] END max_depth=10, max_features=log2, min_samples_leaf=15;, score=-1.567 total time=   0.0s\n",
      "[CV 2/3] END max_depth=10, max_features=log2, min_samples_leaf=15;, score=-1.462 total time=   0.0s\n",
      "[CV 3/3] END max_depth=10, max_features=log2, min_samples_leaf=15;, score=-1.479 total time=   0.0s\n",
      "[CV 1/3] END max_depth=10, max_features=sqrt, min_samples_leaf=5;, score=-1.433 total time=   0.0s\n",
      "[CV 2/3] END max_depth=10, max_features=sqrt, min_samples_leaf=5;, score=-1.557 total time=   0.0s\n",
      "[CV 3/3] END max_depth=10, max_features=sqrt, min_samples_leaf=5;, score=-1.313 total time=   0.0s\n",
      "[CV 1/3] END max_depth=10, max_features=sqrt, min_samples_leaf=6;, score=-1.507 total time=   0.0s\n",
      "[CV 2/3] END max_depth=10, max_features=sqrt, min_samples_leaf=6;, score=-1.517 total time=   0.0s\n",
      "[CV 3/3] END max_depth=10, max_features=sqrt, min_samples_leaf=6;, score=-1.487 total time=   0.0s\n",
      "[CV 1/3] END max_depth=10, max_features=sqrt, min_samples_leaf=7;, score=-1.397 total time=   0.0s\n",
      "[CV 2/3] END max_depth=10, max_features=sqrt, min_samples_leaf=7;, score=-1.534 total time=   0.0s\n",
      "[CV 3/3] END max_depth=10, max_features=sqrt, min_samples_leaf=7;, score=-1.469 total time=   0.0s\n",
      "[CV 1/3] END max_depth=10, max_features=sqrt, min_samples_leaf=9;, score=-1.517 total time=   0.0s\n",
      "[CV 2/3] END max_depth=10, max_features=sqrt, min_samples_leaf=9;, score=-1.444 total time=   0.0s\n",
      "[CV 3/3] END max_depth=10, max_features=sqrt, min_samples_leaf=9;, score=-1.410 total time=   0.0s\n",
      "[CV 1/3] END max_depth=10, max_features=sqrt, min_samples_leaf=11;, score=-1.443 total time=   0.0s\n",
      "[CV 2/3] END max_depth=10, max_features=sqrt, min_samples_leaf=11;, score=-1.458 total time=   0.0s\n",
      "[CV 3/3] END max_depth=10, max_features=sqrt, min_samples_leaf=11;, score=-1.439 total time=   0.0s\n",
      "[CV 1/3] END max_depth=10, max_features=sqrt, min_samples_leaf=12;, score=-1.596 total time=   0.0s\n",
      "[CV 2/3] END max_depth=10, max_features=sqrt, min_samples_leaf=12;, score=-1.405 total time=   0.0s\n",
      "[CV 3/3] END max_depth=10, max_features=sqrt, min_samples_leaf=12;, score=-1.435 total time=   0.0s\n",
      "[CV 1/3] END max_depth=10, max_features=sqrt, min_samples_leaf=13;, score=-1.382 total time=   0.0s\n",
      "[CV 2/3] END max_depth=10, max_features=sqrt, min_samples_leaf=13;, score=-1.558 total time=   0.0s\n",
      "[CV 3/3] END max_depth=10, max_features=sqrt, min_samples_leaf=13;, score=-1.538 total time=   0.0s\n",
      "[CV 1/3] END max_depth=10, max_features=sqrt, min_samples_leaf=15;, score=-1.567 total time=   0.0s\n",
      "[CV 2/3] END max_depth=10, max_features=sqrt, min_samples_leaf=15;, score=-1.462 total time=   0.0s\n",
      "[CV 3/3] END max_depth=10, max_features=sqrt, min_samples_leaf=15;, score=-1.479 total time=   0.0s\n"
     ]
    },
    {
     "name": "stderr",
     "output_type": "stream",
     "text": [
      "C:\\Users\\assas\\anaconda3\\lib\\site-packages\\sklearn\\tree\\_classes.py:277: FutureWarning: `max_features='auto'` has been deprecated in 1.1 and will be removed in 1.3. To keep the past behaviour, explicitly set `max_features=1.0'`.\n",
      "  warnings.warn(\n",
      "C:\\Users\\assas\\anaconda3\\lib\\site-packages\\sklearn\\tree\\_classes.py:277: FutureWarning: `max_features='auto'` has been deprecated in 1.1 and will be removed in 1.3. To keep the past behaviour, explicitly set `max_features=1.0'`.\n",
      "  warnings.warn(\n",
      "C:\\Users\\assas\\anaconda3\\lib\\site-packages\\sklearn\\tree\\_classes.py:277: FutureWarning: `max_features='auto'` has been deprecated in 1.1 and will be removed in 1.3. To keep the past behaviour, explicitly set `max_features=1.0'`.\n",
      "  warnings.warn(\n",
      "C:\\Users\\assas\\anaconda3\\lib\\site-packages\\sklearn\\tree\\_classes.py:277: FutureWarning: `max_features='auto'` has been deprecated in 1.1 and will be removed in 1.3. To keep the past behaviour, explicitly set `max_features=1.0'`.\n",
      "  warnings.warn(\n",
      "C:\\Users\\assas\\anaconda3\\lib\\site-packages\\sklearn\\tree\\_classes.py:277: FutureWarning: `max_features='auto'` has been deprecated in 1.1 and will be removed in 1.3. To keep the past behaviour, explicitly set `max_features=1.0'`.\n",
      "  warnings.warn(\n",
      "C:\\Users\\assas\\anaconda3\\lib\\site-packages\\sklearn\\tree\\_classes.py:277: FutureWarning: `max_features='auto'` has been deprecated in 1.1 and will be removed in 1.3. To keep the past behaviour, explicitly set `max_features=1.0'`.\n",
      "  warnings.warn(\n",
      "C:\\Users\\assas\\anaconda3\\lib\\site-packages\\sklearn\\tree\\_classes.py:277: FutureWarning: `max_features='auto'` has been deprecated in 1.1 and will be removed in 1.3. To keep the past behaviour, explicitly set `max_features=1.0'`.\n",
      "  warnings.warn(\n",
      "C:\\Users\\assas\\anaconda3\\lib\\site-packages\\sklearn\\tree\\_classes.py:277: FutureWarning: `max_features='auto'` has been deprecated in 1.1 and will be removed in 1.3. To keep the past behaviour, explicitly set `max_features=1.0'`.\n",
      "  warnings.warn(\n",
      "C:\\Users\\assas\\anaconda3\\lib\\site-packages\\sklearn\\tree\\_classes.py:277: FutureWarning: `max_features='auto'` has been deprecated in 1.1 and will be removed in 1.3. To keep the past behaviour, explicitly set `max_features=1.0'`.\n",
      "  warnings.warn(\n",
      "C:\\Users\\assas\\anaconda3\\lib\\site-packages\\sklearn\\tree\\_classes.py:277: FutureWarning: `max_features='auto'` has been deprecated in 1.1 and will be removed in 1.3. To keep the past behaviour, explicitly set `max_features=1.0'`.\n",
      "  warnings.warn(\n",
      "C:\\Users\\assas\\anaconda3\\lib\\site-packages\\sklearn\\tree\\_classes.py:277: FutureWarning: `max_features='auto'` has been deprecated in 1.1 and will be removed in 1.3. To keep the past behaviour, explicitly set `max_features=1.0'`.\n",
      "  warnings.warn(\n",
      "C:\\Users\\assas\\anaconda3\\lib\\site-packages\\sklearn\\tree\\_classes.py:277: FutureWarning: `max_features='auto'` has been deprecated in 1.1 and will be removed in 1.3. To keep the past behaviour, explicitly set `max_features=1.0'`.\n",
      "  warnings.warn(\n",
      "C:\\Users\\assas\\anaconda3\\lib\\site-packages\\sklearn\\tree\\_classes.py:277: FutureWarning: `max_features='auto'` has been deprecated in 1.1 and will be removed in 1.3. To keep the past behaviour, explicitly set `max_features=1.0'`.\n",
      "  warnings.warn(\n",
      "C:\\Users\\assas\\anaconda3\\lib\\site-packages\\sklearn\\tree\\_classes.py:277: FutureWarning: `max_features='auto'` has been deprecated in 1.1 and will be removed in 1.3. To keep the past behaviour, explicitly set `max_features=1.0'`.\n",
      "  warnings.warn(\n",
      "C:\\Users\\assas\\anaconda3\\lib\\site-packages\\sklearn\\tree\\_classes.py:277: FutureWarning: `max_features='auto'` has been deprecated in 1.1 and will be removed in 1.3. To keep the past behaviour, explicitly set `max_features=1.0'`.\n",
      "  warnings.warn(\n",
      "C:\\Users\\assas\\anaconda3\\lib\\site-packages\\sklearn\\tree\\_classes.py:277: FutureWarning: `max_features='auto'` has been deprecated in 1.1 and will be removed in 1.3. To keep the past behaviour, explicitly set `max_features=1.0'`.\n",
      "  warnings.warn(\n",
      "C:\\Users\\assas\\anaconda3\\lib\\site-packages\\sklearn\\tree\\_classes.py:277: FutureWarning: `max_features='auto'` has been deprecated in 1.1 and will be removed in 1.3. To keep the past behaviour, explicitly set `max_features=1.0'`.\n",
      "  warnings.warn(\n"
     ]
    },
    {
     "name": "stdout",
     "output_type": "stream",
     "text": [
      "[CV 1/3] END max_depth=None, max_features=auto, min_samples_leaf=5;, score=-1.060 total time=   0.0s\n",
      "[CV 2/3] END max_depth=None, max_features=auto, min_samples_leaf=5;, score=-1.057 total time=   0.0s\n",
      "[CV 3/3] END max_depth=None, max_features=auto, min_samples_leaf=5;, score=-1.078 total time=   0.0s\n",
      "[CV 1/3] END max_depth=None, max_features=auto, min_samples_leaf=6;, score=-1.113 total time=   0.0s\n",
      "[CV 2/3] END max_depth=None, max_features=auto, min_samples_leaf=6;, score=-1.038 total time=   0.0s\n",
      "[CV 3/3] END max_depth=None, max_features=auto, min_samples_leaf=6;, score=-1.071 total time=   0.0s\n",
      "[CV 1/3] END max_depth=None, max_features=auto, min_samples_leaf=7;, score=-1.139 total time=   0.0s\n",
      "[CV 2/3] END max_depth=None, max_features=auto, min_samples_leaf=7;, score=-1.041 total time=   0.0s\n",
      "[CV 3/3] END max_depth=None, max_features=auto, min_samples_leaf=7;, score=-1.101 total time=   0.0s\n",
      "[CV 1/3] END max_depth=None, max_features=auto, min_samples_leaf=9;, score=-1.135 total time=   0.0s\n",
      "[CV 2/3] END max_depth=None, max_features=auto, min_samples_leaf=9;, score=-1.080 total time=   0.0s\n",
      "[CV 3/3] END max_depth=None, max_features=auto, min_samples_leaf=9;, score=-1.087 total time=   0.0s\n",
      "[CV 1/3] END max_depth=None, max_features=auto, min_samples_leaf=11;, score=-1.198 total time=   0.0s\n",
      "[CV 2/3] END max_depth=None, max_features=auto, min_samples_leaf=11;, score=-1.076 total time=   0.0s\n",
      "[CV 3/3] END max_depth=None, max_features=auto, min_samples_leaf=11;, score=-1.039 total time=   0.0s\n",
      "[CV 1/3] END max_depth=None, max_features=auto, min_samples_leaf=12;, score=-1.192 total time=   0.0s\n",
      "[CV 2/3] END max_depth=None, max_features=auto, min_samples_leaf=12;, score=-1.084 total time=   0.0s\n",
      "[CV 3/3] END max_depth=None, max_features=auto, min_samples_leaf=12;, score=-1.056 total time=   0.0s\n",
      "[CV 1/3] END max_depth=None, max_features=auto, min_samples_leaf=13;, score=-1.192 total time=   0.0s\n",
      "[CV 2/3] END max_depth=None, max_features=auto, min_samples_leaf=13;, score=-1.092 total time=   0.0s\n",
      "[CV 3/3] END max_depth=None, max_features=auto, min_samples_leaf=13;, score=-1.070 total time=   0.0s\n",
      "[CV 1/3] END max_depth=None, max_features=auto, min_samples_leaf=15;, score=-1.195 total time=   0.0s\n",
      "[CV 2/3] END max_depth=None, max_features=auto, min_samples_leaf=15;, score=-1.091 total time=   0.0s\n",
      "[CV 3/3] END max_depth=None, max_features=auto, min_samples_leaf=15;, score=-1.069 total time=   0.0s\n",
      "[CV 1/3] END max_depth=None, max_features=log2, min_samples_leaf=5;, score=-1.558 total time=   0.0s\n",
      "[CV 2/3] END max_depth=None, max_features=log2, min_samples_leaf=5;, score=-1.443 total time=   0.0s\n",
      "[CV 3/3] END max_depth=None, max_features=log2, min_samples_leaf=5;, score=-1.396 total time=   0.0s\n",
      "[CV 1/3] END max_depth=None, max_features=log2, min_samples_leaf=6;, score=-1.320 total time=   0.0s\n",
      "[CV 2/3] END max_depth=None, max_features=log2, min_samples_leaf=6;, score=-1.254 total time=   0.0s\n",
      "[CV 3/3] END max_depth=None, max_features=log2, min_samples_leaf=6;, score=-1.358 total time=   0.0s\n",
      "[CV 1/3] END max_depth=None, max_features=log2, min_samples_leaf=7;, score=-1.486 total time=   0.0s\n",
      "[CV 2/3] END max_depth=None, max_features=log2, min_samples_leaf=7;, score=-1.335 total time=   0.0s\n",
      "[CV 3/3] END max_depth=None, max_features=log2, min_samples_leaf=7;, score=-1.427 total time=   0.0s\n",
      "[CV 1/3] END max_depth=None, max_features=log2, min_samples_leaf=9;, score=-1.495 total time=   0.0s\n",
      "[CV 2/3] END max_depth=None, max_features=log2, min_samples_leaf=9;, score=-1.420 total time=   0.0s\n",
      "[CV 3/3] END max_depth=None, max_features=log2, min_samples_leaf=9;, score=-1.556 total time=   0.0s\n"
     ]
    },
    {
     "name": "stderr",
     "output_type": "stream",
     "text": [
      "C:\\Users\\assas\\anaconda3\\lib\\site-packages\\sklearn\\tree\\_classes.py:277: FutureWarning: `max_features='auto'` has been deprecated in 1.1 and will be removed in 1.3. To keep the past behaviour, explicitly set `max_features=1.0'`.\n",
      "  warnings.warn(\n",
      "C:\\Users\\assas\\anaconda3\\lib\\site-packages\\sklearn\\tree\\_classes.py:277: FutureWarning: `max_features='auto'` has been deprecated in 1.1 and will be removed in 1.3. To keep the past behaviour, explicitly set `max_features=1.0'`.\n",
      "  warnings.warn(\n",
      "C:\\Users\\assas\\anaconda3\\lib\\site-packages\\sklearn\\tree\\_classes.py:277: FutureWarning: `max_features='auto'` has been deprecated in 1.1 and will be removed in 1.3. To keep the past behaviour, explicitly set `max_features=1.0'`.\n",
      "  warnings.warn(\n",
      "C:\\Users\\assas\\anaconda3\\lib\\site-packages\\sklearn\\tree\\_classes.py:277: FutureWarning: `max_features='auto'` has been deprecated in 1.1 and will be removed in 1.3. To keep the past behaviour, explicitly set `max_features=1.0'`.\n",
      "  warnings.warn(\n",
      "C:\\Users\\assas\\anaconda3\\lib\\site-packages\\sklearn\\tree\\_classes.py:277: FutureWarning: `max_features='auto'` has been deprecated in 1.1 and will be removed in 1.3. To keep the past behaviour, explicitly set `max_features=1.0'`.\n",
      "  warnings.warn(\n",
      "C:\\Users\\assas\\anaconda3\\lib\\site-packages\\sklearn\\tree\\_classes.py:277: FutureWarning: `max_features='auto'` has been deprecated in 1.1 and will be removed in 1.3. To keep the past behaviour, explicitly set `max_features=1.0'`.\n",
      "  warnings.warn(\n",
      "C:\\Users\\assas\\anaconda3\\lib\\site-packages\\sklearn\\tree\\_classes.py:277: FutureWarning: `max_features='auto'` has been deprecated in 1.1 and will be removed in 1.3. To keep the past behaviour, explicitly set `max_features=1.0'`.\n",
      "  warnings.warn(\n"
     ]
    },
    {
     "name": "stdout",
     "output_type": "stream",
     "text": [
      "[CV 1/3] END max_depth=None, max_features=log2, min_samples_leaf=11;, score=-1.382 total time=   0.0s\n",
      "[CV 2/3] END max_depth=None, max_features=log2, min_samples_leaf=11;, score=-1.435 total time=   0.0s\n",
      "[CV 3/3] END max_depth=None, max_features=log2, min_samples_leaf=11;, score=-1.423 total time=   0.0s\n",
      "[CV 1/3] END max_depth=None, max_features=log2, min_samples_leaf=12;, score=-1.606 total time=   0.0s\n",
      "[CV 2/3] END max_depth=None, max_features=log2, min_samples_leaf=12;, score=-1.554 total time=   0.0s\n",
      "[CV 3/3] END max_depth=None, max_features=log2, min_samples_leaf=12;, score=-1.391 total time=   0.0s\n",
      "[CV 1/3] END max_depth=None, max_features=log2, min_samples_leaf=13;, score=-1.489 total time=   0.0s\n",
      "[CV 2/3] END max_depth=None, max_features=log2, min_samples_leaf=13;, score=-1.566 total time=   0.0s\n",
      "[CV 3/3] END max_depth=None, max_features=log2, min_samples_leaf=13;, score=-1.391 total time=   0.0s\n",
      "[CV 1/3] END max_depth=None, max_features=log2, min_samples_leaf=15;, score=-1.555 total time=   0.0s\n",
      "[CV 2/3] END max_depth=None, max_features=log2, min_samples_leaf=15;, score=-1.471 total time=   0.0s\n",
      "[CV 3/3] END max_depth=None, max_features=log2, min_samples_leaf=15;, score=-1.501 total time=   0.0s\n",
      "[CV 1/3] END max_depth=None, max_features=sqrt, min_samples_leaf=5;, score=-1.558 total time=   0.0s\n",
      "[CV 2/3] END max_depth=None, max_features=sqrt, min_samples_leaf=5;, score=-1.443 total time=   0.0s\n",
      "[CV 3/3] END max_depth=None, max_features=sqrt, min_samples_leaf=5;, score=-1.396 total time=   0.0s\n",
      "[CV 1/3] END max_depth=None, max_features=sqrt, min_samples_leaf=6;, score=-1.320 total time=   0.0s\n",
      "[CV 2/3] END max_depth=None, max_features=sqrt, min_samples_leaf=6;, score=-1.254 total time=   0.0s\n",
      "[CV 3/3] END max_depth=None, max_features=sqrt, min_samples_leaf=6;, score=-1.358 total time=   0.0s\n",
      "[CV 1/3] END max_depth=None, max_features=sqrt, min_samples_leaf=7;, score=-1.486 total time=   0.0s\n",
      "[CV 2/3] END max_depth=None, max_features=sqrt, min_samples_leaf=7;, score=-1.335 total time=   0.0s\n",
      "[CV 3/3] END max_depth=None, max_features=sqrt, min_samples_leaf=7;, score=-1.427 total time=   0.0s\n",
      "[CV 1/3] END max_depth=None, max_features=sqrt, min_samples_leaf=9;, score=-1.495 total time=   0.0s\n",
      "[CV 2/3] END max_depth=None, max_features=sqrt, min_samples_leaf=9;, score=-1.420 total time=   0.0s\n",
      "[CV 3/3] END max_depth=None, max_features=sqrt, min_samples_leaf=9;, score=-1.556 total time=   0.0s\n",
      "[CV 1/3] END max_depth=None, max_features=sqrt, min_samples_leaf=11;, score=-1.382 total time=   0.0s\n",
      "[CV 2/3] END max_depth=None, max_features=sqrt, min_samples_leaf=11;, score=-1.435 total time=   0.0s\n",
      "[CV 3/3] END max_depth=None, max_features=sqrt, min_samples_leaf=11;, score=-1.423 total time=   0.0s\n",
      "[CV 1/3] END max_depth=None, max_features=sqrt, min_samples_leaf=12;, score=-1.606 total time=   0.0s\n",
      "[CV 2/3] END max_depth=None, max_features=sqrt, min_samples_leaf=12;, score=-1.554 total time=   0.0s\n",
      "[CV 3/3] END max_depth=None, max_features=sqrt, min_samples_leaf=12;, score=-1.391 total time=   0.0s\n",
      "[CV 1/3] END max_depth=None, max_features=sqrt, min_samples_leaf=13;, score=-1.489 total time=   0.0s\n",
      "[CV 2/3] END max_depth=None, max_features=sqrt, min_samples_leaf=13;, score=-1.566 total time=   0.0s\n",
      "[CV 3/3] END max_depth=None, max_features=sqrt, min_samples_leaf=13;, score=-1.391 total time=   0.0s\n",
      "[CV 1/3] END max_depth=None, max_features=sqrt, min_samples_leaf=15;, score=-1.555 total time=   0.0s\n",
      "[CV 2/3] END max_depth=None, max_features=sqrt, min_samples_leaf=15;, score=-1.471 total time=   0.0s\n",
      "[CV 3/3] END max_depth=None, max_features=sqrt, min_samples_leaf=15;, score=-1.501 total time=   0.0s\n"
     ]
    },
    {
     "name": "stderr",
     "output_type": "stream",
     "text": [
      "C:\\Users\\assas\\anaconda3\\lib\\site-packages\\sklearn\\tree\\_classes.py:277: FutureWarning: `max_features='auto'` has been deprecated in 1.1 and will be removed in 1.3. To keep the past behaviour, explicitly set `max_features=1.0'`.\n",
      "  warnings.warn(\n"
     ]
    },
    {
     "data": {
      "text/html": [
       "<style>#sk-container-id-3 {color: black;background-color: white;}#sk-container-id-3 pre{padding: 0;}#sk-container-id-3 div.sk-toggleable {background-color: white;}#sk-container-id-3 label.sk-toggleable__label {cursor: pointer;display: block;width: 100%;margin-bottom: 0;padding: 0.3em;box-sizing: border-box;text-align: center;}#sk-container-id-3 label.sk-toggleable__label-arrow:before {content: \"▸\";float: left;margin-right: 0.25em;color: #696969;}#sk-container-id-3 label.sk-toggleable__label-arrow:hover:before {color: black;}#sk-container-id-3 div.sk-estimator:hover label.sk-toggleable__label-arrow:before {color: black;}#sk-container-id-3 div.sk-toggleable__content {max-height: 0;max-width: 0;overflow: hidden;text-align: left;background-color: #f0f8ff;}#sk-container-id-3 div.sk-toggleable__content pre {margin: 0.2em;color: black;border-radius: 0.25em;background-color: #f0f8ff;}#sk-container-id-3 input.sk-toggleable__control:checked~div.sk-toggleable__content {max-height: 200px;max-width: 100%;overflow: auto;}#sk-container-id-3 input.sk-toggleable__control:checked~label.sk-toggleable__label-arrow:before {content: \"▾\";}#sk-container-id-3 div.sk-estimator input.sk-toggleable__control:checked~label.sk-toggleable__label {background-color: #d4ebff;}#sk-container-id-3 div.sk-label input.sk-toggleable__control:checked~label.sk-toggleable__label {background-color: #d4ebff;}#sk-container-id-3 input.sk-hidden--visually {border: 0;clip: rect(1px 1px 1px 1px);clip: rect(1px, 1px, 1px, 1px);height: 1px;margin: -1px;overflow: hidden;padding: 0;position: absolute;width: 1px;}#sk-container-id-3 div.sk-estimator {font-family: monospace;background-color: #f0f8ff;border: 1px dotted black;border-radius: 0.25em;box-sizing: border-box;margin-bottom: 0.5em;}#sk-container-id-3 div.sk-estimator:hover {background-color: #d4ebff;}#sk-container-id-3 div.sk-parallel-item::after {content: \"\";width: 100%;border-bottom: 1px solid gray;flex-grow: 1;}#sk-container-id-3 div.sk-label:hover label.sk-toggleable__label {background-color: #d4ebff;}#sk-container-id-3 div.sk-serial::before {content: \"\";position: absolute;border-left: 1px solid gray;box-sizing: border-box;top: 0;bottom: 0;left: 50%;z-index: 0;}#sk-container-id-3 div.sk-serial {display: flex;flex-direction: column;align-items: center;background-color: white;padding-right: 0.2em;padding-left: 0.2em;position: relative;}#sk-container-id-3 div.sk-item {position: relative;z-index: 1;}#sk-container-id-3 div.sk-parallel {display: flex;align-items: stretch;justify-content: center;background-color: white;position: relative;}#sk-container-id-3 div.sk-item::before, #sk-container-id-3 div.sk-parallel-item::before {content: \"\";position: absolute;border-left: 1px solid gray;box-sizing: border-box;top: 0;bottom: 0;left: 50%;z-index: -1;}#sk-container-id-3 div.sk-parallel-item {display: flex;flex-direction: column;z-index: 1;position: relative;background-color: white;}#sk-container-id-3 div.sk-parallel-item:first-child::after {align-self: flex-end;width: 50%;}#sk-container-id-3 div.sk-parallel-item:last-child::after {align-self: flex-start;width: 50%;}#sk-container-id-3 div.sk-parallel-item:only-child::after {width: 0;}#sk-container-id-3 div.sk-dashed-wrapped {border: 1px dashed gray;margin: 0 0.4em 0.5em 0.4em;box-sizing: border-box;padding-bottom: 0.4em;background-color: white;}#sk-container-id-3 div.sk-label label {font-family: monospace;font-weight: bold;display: inline-block;line-height: 1.2em;}#sk-container-id-3 div.sk-label-container {text-align: center;}#sk-container-id-3 div.sk-container {/* jupyter's `normalize.less` sets `[hidden] { display: none; }` but bootstrap.min.css set `[hidden] { display: none !important; }` so we also need the `!important` here to be able to override the default hidden behavior on the sphinx rendered scikit-learn.org. See: https://github.com/scikit-learn/scikit-learn/issues/21755 */display: inline-block !important;position: relative;}#sk-container-id-3 div.sk-text-repr-fallback {display: none;}</style><div id=\"sk-container-id-3\" class=\"sk-top-container\"><div class=\"sk-text-repr-fallback\"><pre>GridSearchCV(cv=3, estimator=DecisionTreeRegressor(random_state=42),\n",
       "             param_grid={&#x27;max_depth&#x27;: [5, 10, None],\n",
       "                         &#x27;max_features&#x27;: [&#x27;auto&#x27;, &#x27;log2&#x27;, &#x27;sqrt&#x27;],\n",
       "                         &#x27;min_samples_leaf&#x27;: [5, 6, 7, 9, 11, 12, 13, 15]},\n",
       "             scoring=&#x27;neg_mean_absolute_error&#x27;, verbose=3)</pre><b>In a Jupyter environment, please rerun this cell to show the HTML representation or trust the notebook. <br />On GitHub, the HTML representation is unable to render, please try loading this page with nbviewer.org.</b></div><div class=\"sk-container\" hidden><div class=\"sk-item sk-dashed-wrapped\"><div class=\"sk-label-container\"><div class=\"sk-label sk-toggleable\"><input class=\"sk-toggleable__control sk-hidden--visually\" id=\"sk-estimator-id-5\" type=\"checkbox\" ><label for=\"sk-estimator-id-5\" class=\"sk-toggleable__label sk-toggleable__label-arrow\">GridSearchCV</label><div class=\"sk-toggleable__content\"><pre>GridSearchCV(cv=3, estimator=DecisionTreeRegressor(random_state=42),\n",
       "             param_grid={&#x27;max_depth&#x27;: [5, 10, None],\n",
       "                         &#x27;max_features&#x27;: [&#x27;auto&#x27;, &#x27;log2&#x27;, &#x27;sqrt&#x27;],\n",
       "                         &#x27;min_samples_leaf&#x27;: [5, 6, 7, 9, 11, 12, 13, 15]},\n",
       "             scoring=&#x27;neg_mean_absolute_error&#x27;, verbose=3)</pre></div></div></div><div class=\"sk-parallel\"><div class=\"sk-parallel-item\"><div class=\"sk-item\"><div class=\"sk-label-container\"><div class=\"sk-label sk-toggleable\"><input class=\"sk-toggleable__control sk-hidden--visually\" id=\"sk-estimator-id-6\" type=\"checkbox\" ><label for=\"sk-estimator-id-6\" class=\"sk-toggleable__label sk-toggleable__label-arrow\">estimator: DecisionTreeRegressor</label><div class=\"sk-toggleable__content\"><pre>DecisionTreeRegressor(random_state=42)</pre></div></div></div><div class=\"sk-serial\"><div class=\"sk-item\"><div class=\"sk-estimator sk-toggleable\"><input class=\"sk-toggleable__control sk-hidden--visually\" id=\"sk-estimator-id-7\" type=\"checkbox\" ><label for=\"sk-estimator-id-7\" class=\"sk-toggleable__label sk-toggleable__label-arrow\">DecisionTreeRegressor</label><div class=\"sk-toggleable__content\"><pre>DecisionTreeRegressor(random_state=42)</pre></div></div></div></div></div></div></div></div></div></div>"
      ],
      "text/plain": [
       "GridSearchCV(cv=3, estimator=DecisionTreeRegressor(random_state=42),\n",
       "             param_grid={'max_depth': [5, 10, None],\n",
       "                         'max_features': ['auto', 'log2', 'sqrt'],\n",
       "                         'min_samples_leaf': [5, 6, 7, 9, 11, 12, 13, 15]},\n",
       "             scoring='neg_mean_absolute_error', verbose=3)"
      ]
     },
     "execution_count": 31,
     "metadata": {},
     "output_type": "execute_result"
    }
   ],
   "source": [
    "regressor = GridSearchCV(reg_decision_model,param_grid=param_grid,scoring='neg_mean_absolute_error',cv=3,verbose=3)\n",
    "regressor.fit(X_train, y_train)"
   ]
  },
  {
   "cell_type": "code",
   "execution_count": 32,
   "id": "ec6ced2b",
   "metadata": {
    "scrolled": true
   },
   "outputs": [
    {
     "data": {
      "text/plain": [
       "{'max_depth': None, 'max_features': 'auto', 'min_samples_leaf': 5}"
      ]
     },
     "execution_count": 32,
     "metadata": {},
     "output_type": "execute_result"
    }
   ],
   "source": [
    "regressor.best_params_"
   ]
  },
  {
   "cell_type": "code",
   "execution_count": 33,
   "id": "4f4234fb",
   "metadata": {},
   "outputs": [],
   "source": [
    "model_dt_final = regressor.best_estimator_"
   ]
  },
  {
   "cell_type": "code",
   "execution_count": 34,
   "id": "0fe859c7",
   "metadata": {},
   "outputs": [],
   "source": [
    "\n",
    "y_train_dt_pred = model_dt_final.predict(X_train)\n",
    "y_test_dt_pred = model_dt_final.predict(X_test)"
   ]
  },
  {
   "cell_type": "code",
   "execution_count": 35,
   "id": "d12cd9a8",
   "metadata": {},
   "outputs": [
    {
     "data": {
      "text/plain": [
       "0.7226336840247494"
      ]
     },
     "execution_count": 35,
     "metadata": {},
     "output_type": "execute_result"
    }
   ],
   "source": [
    "r2_score(y_test, y_test_dt_pred)"
   ]
  },
  {
   "cell_type": "code",
   "execution_count": 36,
   "id": "0d8fe598",
   "metadata": {},
   "outputs": [
    {
     "name": "stdout",
     "output_type": "stream",
     "text": [
      "Absolute Error 0.980452842377261\n",
      "Squared Error 1.802858511380197\n"
     ]
    }
   ],
   "source": [
    "print(\"Absolute Error\", mean_absolute_error(y_test,y_test_dt_pred))\n",
    "print(\"Squared Error\", mean_squared_error(y_test, y_test_dt_pred)**(0.5))"
   ]
  },
  {
   "cell_type": "code",
   "execution_count": 37,
   "id": "6769295b",
   "metadata": {},
   "outputs": [],
   "source": [
    "pickle.dump(model_dt_final,open('./model/model_dt.pickle',mode='wb'))"
   ]
  },
  {
   "cell_type": "code",
   "execution_count": 31,
   "id": "ec9cb9fb",
   "metadata": {},
   "outputs": [
    {
     "data": {
      "image/png": "[encoded data removed]",
      "text/plain": [
       "<Figure size 580x500 with 1 Axes>"
      ]
     },
     "metadata": {},
     "output_type": "display_data"
    }
   ],
   "source": [
    "import matplotlib.pyplot as plt\n",
    "\n",
    "# R-squared values for your four models\n",
    "model_names = [\"Linear Regression\", \"Support Vector Machine\", \"Random Forest\", \"Decision Tree\"]\n",
    "r_squared_values = [0.7416546287843427, 0.7280064071500552, 0.8939103644101356, 0.7226336840247494]\n",
    "\n",
    "# Create a bar chart\n",
    "fig, ax = plt.subplots(figsize=(5.8, 5))\n",
    "plt.bar(model_names, r_squared_values, color = 'lightgreen')\n",
    "plt.xlabel(\"Models\")\n",
    "plt.xticks(fontsize = 6.5)\n",
    "plt.ylabel(\"R-squared Error\")\n",
    "plt.title(\"Comparison of R-squared Error for Four Models\", fontsize = 9.7)\n",
    "\n",
    "# Show the chart\n",
    "plt.show()"
   ]
  },
  {
   "cell_type": "code",
   "execution_count": 25,
   "id": "94898d3a",
   "metadata": {},
   "outputs": [
    {
     "data": {
      "image/png": "[encoded data removed]",
      "text/plain": [
       "<Figure size 580x500 with 1 Axes>"
      ]
     },
     "metadata": {},
     "output_type": "display_data"
    }
   ],
   "source": [
    "import matplotlib.pyplot as plt\n",
    "\n",
    "# R-squared values for your four models\n",
    "model_names = [\"Linear Regression\", \"Support Vector Machine\", \"Random Forest\", \"Decision Tree\"]\n",
    "r_squared_values = [1.7399434272644283, 1.7853119928425283, 1.1149907495162854, 1.802858511380197]\n",
    "\n",
    "# Create a bar chart\n",
    "fig, ax = plt.subplots(figsize=(5.8, 5))  # Correct the \"figuresize\" to \"fig, ax = plt.subplots()\"\n",
    "plt.bar(model_names, r_squared_values)\n",
    "plt.xlabel(\"Models\")\n",
    "plt.xticks(fontsize=6.5)\n",
    "plt.ylabel(\"RMSE\")\n",
    "plt.title(\"Comparison of RMSE for Four Models\", fontsize=9.7)\n",
    "\n",
    "# Show the chart\n",
    "plt.show()"
   ]
  },
  {
   "cell_type": "code",
   "execution_count": 32,
   "id": "b3525cbd",
   "metadata": {
    "scrolled": false
   },
   "outputs": [
    {
     "data": {
      "image/png": "[encoded data removed]",
      "text/plain": [
       "<Figure size 580x500 with 1 Axes>"
      ]
     },
     "metadata": {},
     "output_type": "display_data"
    }
   ],
   "source": [
    "import matplotlib.pyplot as plt\n",
    "\n",
    "# R-squared values for your four models\n",
    "model_names = [\"Linear Regression\", \"Support Vector Machine\", \"Random Forest\", \"Decision Tree\"]\n",
    "r_squared_values = [1.0793656808808927, 0.9537033433232448, 0.5813673814557688, 0.980452842377261]\n",
    "\n",
    "# Create a bar chart\n",
    "fig, ax = plt.subplots(figsize=(5.8, 5))  # Correct the \"figuresize\" to \"fig, ax = plt.subplots()\"\n",
    "plt.bar(model_names, r_squared_values, color = 'orange')\n",
    "plt.xlabel(\"Models\")\n",
    "plt.xticks(fontsize=6.5)\n",
    "plt.ylabel(\"MAE\")\n",
    "plt.title(\"Comparison of MAE for Four Models\", fontsize=9.7)\n",
    "\n",
    "# Show the chart\n",
    "plt.show()"
   ]
  },
  {
   "cell_type": "code",
   "execution_count": 43,
   "id": "cd707739",
   "metadata": {},
   "outputs": [
    {
     "data": {
      "image/png": "[encoded data removed]",
      "text/plain": [
       "<Figure size 580x500 with 1 Axes>"
      ]
     },
     "metadata": {},
     "output_type": "display_data"
    }
   ],
   "source": [
    "import matplotlib.pyplot as plt\n",
    "import numpy as np\n",
    "\n",
    "# Model names and error metrics for R-squared, MAE, and RMSE\n",
    "model_names = [\"Linear Regression\", \"Support Vector Machine\", \"Random Forest\", \"Decision Tree\"]\n",
    "r_squared =  [0.7416546287843427, 0.7280064071500552, 0.8939103644101356, 0.7226336840247494]\n",
    "mae =[1.0793656808808927, 0.9537033433232448, 0.5813673814557688, 0.980452842377261]\n",
    "rmse = [1.7399434272644283, 1.7853119928425283, 1.1149907495162854, 1.802858511380197]\n",
    "\n",
    "\n",
    "# Set the width of each bar and the x-axis locations\n",
    "bar_width = 0.2\n",
    "x = np.arange(len(model_names))\n",
    "\n",
    "# Create the grouped bar chart\n",
    "fig, ax = plt.subplots(figsize=(5.8, 5))\n",
    "\n",
    "# Position the bars for R-squared, MAE, and RMSE\n",
    "bar1 = ax.bar(x - bar_width, r_squared, bar_width, label='R-squared')\n",
    "bar2 = ax.bar(x, mae, bar_width, label='MAE')\n",
    "bar3 = ax.bar(x + bar_width, rmse, bar_width, label='RMSE')\n",
    "\n",
    "# Label the x-axis with model names\n",
    "ax.set_xticks(x)\n",
    "ax.set_xticklabels(model_names)\n",
    "\n",
    "# Add labels and a legend\n",
    "ax.set_xlabel(\"Models\", fontsize= 7)\n",
    "plt.xticks(fontsize=6.5)\n",
    "ax.set_ylabel(\"Error Metrics\",fontsize= 7 )\n",
    "plt.yticks(fontsize=7)\n",
    "ax.set_title(\"Comparison of R-squared, MAE, and RMSE for Four Models\", fontsize=8.5 )\n",
    "ax.legend(fontsize= 6)\n",
    "\n",
    "# Show the chart\n",
    "plt.show()\n"
   ]
  },
  {
   "cell_type": "markdown",
   "id": "a78cbe80",
   "metadata": {},
   "source": [
    "-----\n",
    "**END**"
   ]
  }
 ],
 "metadata": {
  "kernelspec": {
   "display_name": "Python 3 (ipykernel)",
   "language": "python",
   "name": "python3"
  },
  "language_info": {
   "codemirror_mode": {
    "name": "ipython",
    "version": 3
   },
   "file_extension": ".py",
   "mimetype": "text/x-python",
   "name": "python",
   "nbconvert_exporter": "python",
   "pygments_lexer": "ipython3",
   "version": "3.10.9"
  }
 },
 "nbformat": 4,
 "nbformat_minor": 5
}
